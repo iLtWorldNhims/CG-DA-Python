{
 "cells": [
  {
   "cell_type": "code",
   "execution_count": 3,
   "id": "a7222299-526f-4ede-bd7c-7fabc65c2825",
   "metadata": {},
   "outputs": [],
   "source": [
    "import numpy as np\n",
    "import matplotlib.pyplot as plt"
   ]
  },
  {
   "cell_type": "code",
   "execution_count": 39,
   "id": "f430caca-cad0-4797-a962-aed7164f139c",
   "metadata": {},
   "outputs": [
    {
     "data": {
      "image/png": "[encoded data removed]",
      "text/plain": [
       "<Figure size 432x288 with 1 Axes>"
      ]
     },
     "metadata": {
      "needs_background": "light"
     },
     "output_type": "display_data"
    }
   ],
   "source": [
    "data = np.random.normal(0, 1, 10000000)\n",
    "plt.hist(data, bins=100)\n",
    "plt.show()"
   ]
  },
  {
   "cell_type": "raw",
   "id": "10846835-a69e-41dd-9c67-992c20d99963",
   "metadata": {},
   "source": [
    "Giả thiết H0: u_ = 0\n",
    "H1: u_ != 0"
   ]
  },
  {
   "cell_type": "code",
   "execution_count": 30,
   "id": "5531772a-b53c-419b-af82-83d92e7d8c09",
   "metadata": {},
   "outputs": [
    {
     "name": "stdout",
     "output_type": "stream",
     "text": [
      "-1.3534453681184637\n",
      "0.1789956004456542\n"
     ]
    }
   ],
   "source": [
    "import scipy.stats as stats\n",
    "\n",
    "t_stats, pvalue = stats.ttest_1samp(data, 0)\n",
    "print(t_stats)\n",
    "print(pvalue)"
   ]
  },
  {
   "cell_type": "markdown",
   "id": "52d4db0f-08e3-4d35-b634-db7b4e296827",
   "metadata": {},
   "source": [
    "# Kiểm định mẫu độc lập"
   ]
  },
  {
   "cell_type": "code",
   "execution_count": 40,
   "id": "ab4a03fc-909e-4c48-80cf-f54880689668",
   "metadata": {},
   "outputs": [],
   "source": [
    "import pandas as pd"
   ]
  },
  {
   "cell_type": "code",
   "execution_count": 42,
   "id": "23a747ba-fff9-4b82-8470-b8bea2dc89ac",
   "metadata": {},
   "outputs": [
    {
     "data": {
      "text/html": [
       "<div>\n",
       "<style scoped>\n",
       "    .dataframe tbody tr th:only-of-type {\n",
       "        vertical-align: middle;\n",
       "    }\n",
       "\n",
       "    .dataframe tbody tr th {\n",
       "        vertical-align: top;\n",
       "    }\n",
       "\n",
       "    .dataframe thead th {\n",
       "        text-align: right;\n",
       "    }\n",
       "</style>\n",
       "<table border=\"1\" class=\"dataframe\">\n",
       "  <thead>\n",
       "    <tr style=\"text-align: right;\">\n",
       "      <th></th>\n",
       "      <th>Rank</th>\n",
       "      <th>Country Name</th>\n",
       "      <th>Male Height in Cm</th>\n",
       "      <th>Female Height in Cm</th>\n",
       "      <th>Male Height in Ft</th>\n",
       "      <th>Female Height in Ft</th>\n",
       "    </tr>\n",
       "  </thead>\n",
       "  <tbody>\n",
       "    <tr>\n",
       "      <th>0</th>\n",
       "      <td>1</td>\n",
       "      <td>Netherlands</td>\n",
       "      <td>183.78</td>\n",
       "      <td>170.36</td>\n",
       "      <td>6.03</td>\n",
       "      <td>5.59</td>\n",
       "    </tr>\n",
       "    <tr>\n",
       "      <th>1</th>\n",
       "      <td>2</td>\n",
       "      <td>Montenegro</td>\n",
       "      <td>183.30</td>\n",
       "      <td>169.96</td>\n",
       "      <td>6.01</td>\n",
       "      <td>5.58</td>\n",
       "    </tr>\n",
       "    <tr>\n",
       "      <th>2</th>\n",
       "      <td>3</td>\n",
       "      <td>Estonia</td>\n",
       "      <td>182.79</td>\n",
       "      <td>168.66</td>\n",
       "      <td>6.00</td>\n",
       "      <td>5.53</td>\n",
       "    </tr>\n",
       "    <tr>\n",
       "      <th>3</th>\n",
       "      <td>4</td>\n",
       "      <td>Bosnia and Herzegovina</td>\n",
       "      <td>182.47</td>\n",
       "      <td>167.47</td>\n",
       "      <td>5.99</td>\n",
       "      <td>5.49</td>\n",
       "    </tr>\n",
       "    <tr>\n",
       "      <th>4</th>\n",
       "      <td>5</td>\n",
       "      <td>Iceland</td>\n",
       "      <td>182.10</td>\n",
       "      <td>168.91</td>\n",
       "      <td>5.97</td>\n",
       "      <td>5.54</td>\n",
       "    </tr>\n",
       "    <tr>\n",
       "      <th>...</th>\n",
       "      <td>...</td>\n",
       "      <td>...</td>\n",
       "      <td>...</td>\n",
       "      <td>...</td>\n",
       "      <td>...</td>\n",
       "      <td>...</td>\n",
       "    </tr>\n",
       "    <tr>\n",
       "      <th>194</th>\n",
       "      <td>195</td>\n",
       "      <td>Mozambique</td>\n",
       "      <td>164.30</td>\n",
       "      <td>155.42</td>\n",
       "      <td>5.39</td>\n",
       "      <td>5.10</td>\n",
       "    </tr>\n",
       "    <tr>\n",
       "      <th>195</th>\n",
       "      <td>196</td>\n",
       "      <td>Papua New Guinea</td>\n",
       "      <td>163.10</td>\n",
       "      <td>156.89</td>\n",
       "      <td>5.35</td>\n",
       "      <td>5.15</td>\n",
       "    </tr>\n",
       "    <tr>\n",
       "      <th>196</th>\n",
       "      <td>197</td>\n",
       "      <td>Solomon Islands</td>\n",
       "      <td>163.07</td>\n",
       "      <td>156.79</td>\n",
       "      <td>5.35</td>\n",
       "      <td>5.14</td>\n",
       "    </tr>\n",
       "    <tr>\n",
       "      <th>197</th>\n",
       "      <td>198</td>\n",
       "      <td>Laos</td>\n",
       "      <td>162.78</td>\n",
       "      <td>153.10</td>\n",
       "      <td>5.34</td>\n",
       "      <td>5.02</td>\n",
       "    </tr>\n",
       "    <tr>\n",
       "      <th>198</th>\n",
       "      <td>199</td>\n",
       "      <td>Timor-Leste</td>\n",
       "      <td>160.13</td>\n",
       "      <td>152.71</td>\n",
       "      <td>5.25</td>\n",
       "      <td>5.01</td>\n",
       "    </tr>\n",
       "  </tbody>\n",
       "</table>\n",
       "<p>199 rows × 6 columns</p>\n",
       "</div>"
      ],
      "text/plain": [
       "     Rank            Country Name  Male Height in Cm  Female Height in Cm  \\\n",
       "0       1             Netherlands             183.78               170.36   \n",
       "1       2              Montenegro             183.30               169.96   \n",
       "2       3                 Estonia             182.79               168.66   \n",
       "3       4  Bosnia and Herzegovina             182.47               167.47   \n",
       "4       5                 Iceland             182.10               168.91   \n",
       "..    ...                     ...                ...                  ...   \n",
       "194   195              Mozambique             164.30               155.42   \n",
       "195   196        Papua New Guinea             163.10               156.89   \n",
       "196   197         Solomon Islands             163.07               156.79   \n",
       "197   198                    Laos             162.78               153.10   \n",
       "198   199             Timor-Leste             160.13               152.71   \n",
       "\n",
       "     Male Height in Ft  Female Height in Ft  \n",
       "0                 6.03                 5.59  \n",
       "1                 6.01                 5.58  \n",
       "2                 6.00                 5.53  \n",
       "3                 5.99                 5.49  \n",
       "4                 5.97                 5.54  \n",
       "..                 ...                  ...  \n",
       "194               5.39                 5.10  \n",
       "195               5.35                 5.15  \n",
       "196               5.35                 5.14  \n",
       "197               5.34                 5.02  \n",
       "198               5.25                 5.01  \n",
       "\n",
       "[199 rows x 6 columns]"
      ]
     },
     "execution_count": 42,
     "metadata": {},
     "output_type": "execute_result"
    }
   ],
   "source": [
    "dat1 = pd.read_csv('Height of Male and Female by Country 2022.csv')\n",
    "dat1"
   ]
  },
  {
   "cell_type": "code",
   "execution_count": 43,
   "id": "8b108b98-7ca8-49aa-860f-15faf772631f",
   "metadata": {},
   "outputs": [],
   "source": [
    "import scipy.stats as stats"
   ]
  },
  {
   "cell_type": "raw",
   "id": "77ad6877-cfb1-4e1d-9189-6dd9c241d383",
   "metadata": {},
   "source": [
    "H0: u1-u2 = 0     H1: u1-u2 != 0"
   ]
  },
  {
   "cell_type": "code",
   "execution_count": 44,
   "id": "074f50a8-201f-4a6f-a026-4ee4ef1db4a0",
   "metadata": {},
   "outputs": [
    {
     "data": {
      "text/plain": [
       "Ttest_indResult(statistic=26.72084290577135, pvalue=1.1680388181096981e-90)"
      ]
     },
     "execution_count": 44,
     "metadata": {},
     "output_type": "execute_result"
    }
   ],
   "source": [
    "stats.ttest_ind(dat1['Male Height in Cm'], dat1['Female Height in Cm'])"
   ]
  },
  {
   "cell_type": "raw",
   "id": "03833d0e-d023-4867-be46-4c92edb7f93a",
   "metadata": {},
   "source": [
    "Kết luận: H0 sai với xác suất rất nhỏ"
   ]
  },
  {
   "cell_type": "code",
   "execution_count": 50,
   "id": "678c8df6-aeaa-4d54-9eac-e96c3ee99b9a",
   "metadata": {},
   "outputs": [
    {
     "data": {
      "image/png": "[encoded data removed]",
      "text/plain": [
       "<Figure size 432x288 with 1 Axes>"
      ]
     },
     "metadata": {
      "needs_background": "light"
     },
     "output_type": "display_data"
    }
   ],
   "source": [
    "plt.hist(dat1['Male Height in Cm']);"
   ]
  },
  {
   "cell_type": "code",
   "execution_count": 49,
   "id": "6d448737-9714-443a-85ea-42541010ab65",
   "metadata": {},
   "outputs": [
    {
     "data": {
      "image/png": "[encoded data removed]",
      "text/plain": [
       "<Figure size 432x288 with 1 Axes>"
      ]
     },
     "metadata": {
      "needs_background": "light"
     },
     "output_type": "display_data"
    }
   ],
   "source": [
    "plt.hist(dat1['Female Height in Cm']);"
   ]
  },
  {
   "cell_type": "code",
   "execution_count": 61,
   "id": "896002ef-44b0-442e-ae23-8d76c5c7b7ff",
   "metadata": {},
   "outputs": [
    {
     "data": {
      "text/plain": [
       "Ttest_indResult(statistic=0.10148498927420867, pvalue=0.9192168372051643)"
      ]
     },
     "execution_count": 61,
     "metadata": {},
     "output_type": "execute_result"
    }
   ],
   "source": [
    "stats.ttest_ind(dat1['Male Height in Cm'], dat1['Female Height in Cm']+12.1)"
   ]
  },
  {
   "cell_type": "markdown",
   "id": "cfded4e7-6184-4ca9-935a-6b537a682a72",
   "metadata": {},
   "source": [
    "# Kiểm định mẫu phụ thuộc"
   ]
  },
  {
   "cell_type": "code",
   "execution_count": 62,
   "id": "fe72c8f4-dc19-4549-a26b-bb780f4e2c22",
   "metadata": {},
   "outputs": [
    {
     "data": {
      "text/html": [
       "<div>\n",
       "<style scoped>\n",
       "    .dataframe tbody tr th:only-of-type {\n",
       "        vertical-align: middle;\n",
       "    }\n",
       "\n",
       "    .dataframe tbody tr th {\n",
       "        vertical-align: top;\n",
       "    }\n",
       "\n",
       "    .dataframe thead th {\n",
       "        text-align: right;\n",
       "    }\n",
       "</style>\n",
       "<table border=\"1\" class=\"dataframe\">\n",
       "  <thead>\n",
       "    <tr style=\"text-align: right;\">\n",
       "      <th></th>\n",
       "      <th>Affected</th>\n",
       "      <th>Not Affected</th>\n",
       "    </tr>\n",
       "  </thead>\n",
       "  <tbody>\n",
       "    <tr>\n",
       "      <th>0</th>\n",
       "      <td>480</td>\n",
       "      <td>400</td>\n",
       "    </tr>\n",
       "    <tr>\n",
       "      <th>1</th>\n",
       "      <td>475</td>\n",
       "      <td>480</td>\n",
       "    </tr>\n",
       "    <tr>\n",
       "      <th>2</th>\n",
       "      <td>485</td>\n",
       "      <td>490</td>\n",
       "    </tr>\n",
       "    <tr>\n",
       "      <th>3</th>\n",
       "      <td>420</td>\n",
       "      <td>450</td>\n",
       "    </tr>\n",
       "    <tr>\n",
       "      <th>4</th>\n",
       "      <td>440</td>\n",
       "      <td>430</td>\n",
       "    </tr>\n",
       "    <tr>\n",
       "      <th>5</th>\n",
       "      <td>415</td>\n",
       "      <td>390</td>\n",
       "    </tr>\n",
       "    <tr>\n",
       "      <th>6</th>\n",
       "      <td>450</td>\n",
       "      <td>460</td>\n",
       "    </tr>\n",
       "    <tr>\n",
       "      <th>7</th>\n",
       "      <td>465</td>\n",
       "      <td>470</td>\n",
       "    </tr>\n",
       "  </tbody>\n",
       "</table>\n",
       "</div>"
      ],
      "text/plain": [
       "   Affected  Not Affected\n",
       "0       480           400\n",
       "1       475           480\n",
       "2       485           490\n",
       "3       420           450\n",
       "4       440           430\n",
       "5       415           390\n",
       "6       450           460\n",
       "7       465           470"
      ]
     },
     "execution_count": 62,
     "metadata": {},
     "output_type": "execute_result"
    }
   ],
   "source": [
    "data1 = pd.DataFrame(columns=['Affected', 'Not Affected'])\n",
    "data1.iloc[:,0] = [480, 475, 485, 420, 440, 415, 450, 465]\n",
    "data1.iloc[:,1] = [400, 480, 490, 450, 430, 390, 460, 470]\n",
    "data1"
   ]
  },
  {
   "cell_type": "code",
   "execution_count": 64,
   "id": "af173c5b-07ae-4044-89f2-d0fab9845950",
   "metadata": {},
   "outputs": [
    {
     "data": {
      "image/png": "[encoded data removed]",
      "text/plain": [
       "<Figure size 432x288 with 1 Axes>"
      ]
     },
     "metadata": {
      "needs_background": "light"
     },
     "output_type": "display_data"
    }
   ],
   "source": [
    "import seaborn as sns\n",
    "sns.scatterplot(data=data1, x='Affected', y='Not Affected')\n",
    "ax = plt.gca()\n",
    "ax.set_aspect(aspect=1)\n",
    "ax.set_box_aspect(aspect=1)"
   ]
  },
  {
   "cell_type": "code",
   "execution_count": 70,
   "id": "6fba9de2-a4e4-4e08-9569-1f7536507ea6",
   "metadata": {},
   "outputs": [
    {
     "data": {
      "text/plain": [
       "<AxesSubplot:xlabel='Affected', ylabel='Density'>"
      ]
     },
     "execution_count": 70,
     "metadata": {},
     "output_type": "execute_result"
    },
    {
     "data": {
      "image/png": "[encoded data removed]",
      "text/plain": [
       "<Figure size 432x288 with 1 Axes>"
      ]
     },
     "metadata": {
      "needs_background": "light"
     },
     "output_type": "display_data"
    }
   ],
   "source": [
    "sns.kdeplot(data=data1, x='Affected')\n",
    "sns.kdeplot(data=data1, x='Not Affected')"
   ]
  },
  {
   "cell_type": "code",
   "execution_count": 84,
   "id": "e4810f78-fe6b-4309-8906-6ea80ed68cfa",
   "metadata": {},
   "outputs": [
    {
     "data": {
      "image/png": "[encoded data removed]",
      "text/plain": [
       "<Figure size 432x288 with 1 Axes>"
      ]
     },
     "metadata": {
      "needs_background": "light"
     },
     "output_type": "display_data"
    }
   ],
   "source": [
    "a = data1['Affected']-data1['Not Affected']\n",
    "sns.kdeplot(data=a);"
   ]
  },
  {
   "cell_type": "raw",
   "id": "2b26b2c5-fc25-4944-8dc6-7cfbac04e756",
   "metadata": {},
   "source": [
    "H0: u1 - u2 = 0"
   ]
  },
  {
   "cell_type": "code",
   "execution_count": 88,
   "id": "ea79af60-1ced-496c-8812-3c90b494bbcf",
   "metadata": {},
   "outputs": [
    {
     "data": {
      "text/plain": [
       "Ttest_relResult(statistic=0.637535577754862, pvalue=0.5440573433923669)"
      ]
     },
     "execution_count": 88,
     "metadata": {},
     "output_type": "execute_result"
    }
   ],
   "source": [
    "stats.ttest_rel(data1['Affected'], data1['Not Affected'])"
   ]
  },
  {
   "cell_type": "raw",
   "id": "988847d1-2674-42f4-89f5-15e75eb1c73f",
   "metadata": {},
   "source": [
    "Tương đối chính xác"
   ]
  },
  {
   "cell_type": "raw",
   "id": "c1c65b8f-9ecf-4c42-b47c-b6a15ab853ea",
   "metadata": {},
   "source": [
    "H0: u1 - u2 = 7"
   ]
  },
  {
   "cell_type": "code",
   "execution_count": 82,
   "id": "78352a32-8c4c-42b0-a275-53b96aea42e9",
   "metadata": {},
   "outputs": [
    {
     "data": {
      "text/plain": [
       "Ttest_relResult(statistic=0.04250237185032414, pvalue=0.9672851566311419)"
      ]
     },
     "execution_count": 82,
     "metadata": {},
     "output_type": "execute_result"
    }
   ],
   "source": [
    "stats.ttest_rel(data1['Affected'], data1['Not Affected']+7)"
   ]
  },
  {
   "cell_type": "raw",
   "id": "69a12a53-86f4-4a2b-949c-f8acd0db45d9",
   "metadata": {},
   "source": [
    "Rất chính xác với mức độ tin cậy ~ 97%"
   ]
  },
  {
   "cell_type": "code",
   "execution_count": 87,
   "id": "47e03ab9-68ca-4288-ba46-0e798da500fb",
   "metadata": {},
   "outputs": [
    {
     "data": {
      "text/plain": [
       "Ttest_indResult(statistic=0.03109959487488049, pvalue=0.9756291268938554)"
      ]
     },
     "execution_count": 87,
     "metadata": {},
     "output_type": "execute_result"
    }
   ],
   "source": [
    "stats.ttest_ind(data1['Affected'], data1['Not Affected']+7)"
   ]
  },
  {
   "cell_type": "raw",
   "id": "650decce-0700-4b4a-8898-64c5f0e715ab",
   "metadata": {},
   "source": [
    "So sánh ind và rel: Đôi lúc chúng cho giá trị khá giống nhau"
   ]
  },
  {
   "cell_type": "markdown",
   "id": "219d06c1-8c75-47ec-acea-5914b88d3194",
   "metadata": {},
   "source": [
    "# Wilcoxon Test"
   ]
  },
  {
   "cell_type": "raw",
   "id": "fd5a1174-e521-4797-a170-ed217bb2f64a",
   "metadata": {},
   "source": [
    "Wilcoxon test dùng để so sánh 2 mẫu theo cặp liệu có cùng dạng phân bố"
   ]
  },
  {
   "cell_type": "code",
   "execution_count": 90,
   "id": "55d7ded1-de80-4136-aa58-94d434c21c44",
   "metadata": {},
   "outputs": [],
   "source": [
    "# Độ lệch số lượng túi bán ra: màu đen – màu đỏ\n",
    "d=[3,4,-1,2,1,-2,5,-1,-2,-2,3,0,-2,5,-2]"
   ]
  },
  {
   "cell_type": "raw",
   "id": "5f8b94ed-6951-4a87-a5f6-f9119f31c31b",
   "metadata": {},
   "source": [
    "H0: túi đỏ và túi đen có cùng dạng phân bố"
   ]
  },
  {
   "cell_type": "code",
   "execution_count": 91,
   "id": "1da4767f-c98c-496e-a531-96a2ef0090dc",
   "metadata": {},
   "outputs": [
    {
     "name": "stderr",
     "output_type": "stream",
     "text": [
      "C:\\Users\\Hamilton\\anaconda3.9\\lib\\site-packages\\scipy\\stats\\morestats.py:3141: UserWarning: Exact p-value calculation does not work if there are ties. Switching to normal approximation.\n",
      "  warnings.warn(\"Exact p-value calculation does not work if there are \"\n"
     ]
    },
    {
     "data": {
      "text/plain": [
       "WilcoxonResult(statistic=36.5, pvalue=0.31023779780459937)"
      ]
     },
     "execution_count": 91,
     "metadata": {},
     "output_type": "execute_result"
    }
   ],
   "source": [
    "stats.wilcoxon(d)"
   ]
  },
  {
   "cell_type": "raw",
   "id": "dcd019e9-b50f-46ee-aa59-950463ee6d0b",
   "metadata": {},
   "source": [
    "Không thể phủ định H0 vì 31% > 5%"
   ]
  },
  {
   "cell_type": "markdown",
   "id": "aef9f09b-e380-4897-bffd-98824bb1487d",
   "metadata": {},
   "source": [
    "# Bài tập GDP"
   ]
  },
  {
   "cell_type": "raw",
   "id": "f580cb2f-8d9c-4d11-9b8c-d3432fe7301d",
   "metadata": {},
   "source": [
    "Hãy thực hiện các kiểm định sau:\n",
    "\n",
    "Trung bình GDP của các quốc gia trên thế giới là 500 tỉ usd/năm\n",
    "GDP trung bình ở các quốc gia ở châu Âu cao hơn châu Á không\n",
    "GDP trung bình của các quốc gia ở châu Âu và châu Mỹ là bằng nhau"
   ]
  },
  {
   "cell_type": "code",
   "execution_count": 94,
   "id": "f11ebd6e-b355-4c44-a8ef-3e1593b51e66",
   "metadata": {},
   "outputs": [
    {
     "data": {
      "text/html": [
       "<div>\n",
       "<style scoped>\n",
       "    .dataframe tbody tr th:only-of-type {\n",
       "        vertical-align: middle;\n",
       "    }\n",
       "\n",
       "    .dataframe tbody tr th {\n",
       "        vertical-align: top;\n",
       "    }\n",
       "\n",
       "    .dataframe thead th {\n",
       "        text-align: right;\n",
       "    }\n",
       "</style>\n",
       "<table border=\"1\" class=\"dataframe\">\n",
       "  <thead>\n",
       "    <tr style=\"text-align: right;\">\n",
       "      <th></th>\n",
       "      <th>Country</th>\n",
       "      <th>Continent</th>\n",
       "      <th>GDP (millions of US$)</th>\n",
       "    </tr>\n",
       "  </thead>\n",
       "  <tbody>\n",
       "    <tr>\n",
       "      <th>0</th>\n",
       "      <td>Afghanistan</td>\n",
       "      <td>Asia</td>\n",
       "      <td>18181</td>\n",
       "    </tr>\n",
       "    <tr>\n",
       "      <th>1</th>\n",
       "      <td>Albania</td>\n",
       "      <td>Europe</td>\n",
       "      <td>12847</td>\n",
       "    </tr>\n",
       "    <tr>\n",
       "      <th>2</th>\n",
       "      <td>Algeria</td>\n",
       "      <td>Africa</td>\n",
       "      <td>190709</td>\n",
       "    </tr>\n",
       "    <tr>\n",
       "      <th>3</th>\n",
       "      <td>Angola</td>\n",
       "      <td>Africa</td>\n",
       "      <td>100948</td>\n",
       "    </tr>\n",
       "    <tr>\n",
       "      <th>4</th>\n",
       "      <td>Argentina</td>\n",
       "      <td>South America</td>\n",
       "      <td>447644</td>\n",
       "    </tr>\n",
       "    <tr>\n",
       "      <th>...</th>\n",
       "      <td>...</td>\n",
       "      <td>...</td>\n",
       "      <td>...</td>\n",
       "    </tr>\n",
       "    <tr>\n",
       "      <th>120</th>\n",
       "      <td>Uzbekistan</td>\n",
       "      <td>Asia</td>\n",
       "      <td>45353</td>\n",
       "    </tr>\n",
       "    <tr>\n",
       "      <th>121</th>\n",
       "      <td>Venezuela</td>\n",
       "      <td>South America</td>\n",
       "      <td>315841</td>\n",
       "    </tr>\n",
       "    <tr>\n",
       "      <th>122</th>\n",
       "      <td>Vietnam</td>\n",
       "      <td>Asia</td>\n",
       "      <td>122722</td>\n",
       "    </tr>\n",
       "    <tr>\n",
       "      <th>123</th>\n",
       "      <td>Yemen</td>\n",
       "      <td>Africa</td>\n",
       "      <td>33675</td>\n",
       "    </tr>\n",
       "    <tr>\n",
       "      <th>124</th>\n",
       "      <td>Zambia</td>\n",
       "      <td>Africa</td>\n",
       "      <td>19206</td>\n",
       "    </tr>\n",
       "  </tbody>\n",
       "</table>\n",
       "<p>125 rows × 3 columns</p>\n",
       "</div>"
      ],
      "text/plain": [
       "          Country      Continent  GDP (millions of US$)\n",
       "0     Afghanistan           Asia                  18181\n",
       "1         Albania         Europe                  12847\n",
       "2         Algeria         Africa                 190709\n",
       "3          Angola         Africa                 100948\n",
       "4       Argentina  South America                 447644\n",
       "..            ...            ...                    ...\n",
       "120    Uzbekistan           Asia                  45353\n",
       "121     Venezuela  South America                 315841\n",
       "122       Vietnam           Asia                 122722\n",
       "123         Yemen         Africa                  33675\n",
       "124        Zambia         Africa                  19206\n",
       "\n",
       "[125 rows x 3 columns]"
      ]
     },
     "execution_count": 94,
     "metadata": {},
     "output_type": "execute_result"
    }
   ],
   "source": [
    "dat2 = pd.read_csv('GDPlist.csv', encoding='ISO-8859-1')\n",
    "dat2"
   ]
  },
  {
   "cell_type": "code",
   "execution_count": 95,
   "id": "5cceae14-8c30-4ccd-8f78-49f0e8e49a18",
   "metadata": {},
   "outputs": [
    {
     "name": "stdout",
     "output_type": "stream",
     "text": [
      "<class 'pandas.core.frame.DataFrame'>\n",
      "RangeIndex: 125 entries, 0 to 124\n",
      "Data columns (total 3 columns):\n",
      " #   Column                 Non-Null Count  Dtype \n",
      "---  ------                 --------------  ----- \n",
      " 0   Country                125 non-null    object\n",
      " 1   Continent              125 non-null    object\n",
      " 2   GDP (millions of US$)  125 non-null    int64 \n",
      "dtypes: int64(1), object(2)\n",
      "memory usage: 3.1+ KB\n"
     ]
    }
   ],
   "source": [
    "dat2.info()"
   ]
  },
  {
   "cell_type": "code",
   "execution_count": 96,
   "id": "621dcedd-57da-48ee-b354-03acf5df7a5d",
   "metadata": {},
   "outputs": [
    {
     "data": {
      "text/plain": [
       "array(['\\xa0Afghanistan', '\\xa0Albania', '\\xa0Algeria', '\\xa0Angola',\n",
       "       '\\xa0Argentina', '\\xa0Australia', '\\xa0Austria', '\\xa0Azerbaijan',\n",
       "       '\\xa0Bahrain', '\\xa0Bangladesh', '\\xa0Belarus', '\\xa0Belgium',\n",
       "       '\\xa0Bolivia', '\\xa0Bosnia and Herzegovina', '\\xa0Botswana',\n",
       "       '\\xa0Brazil', '\\xa0Brunei', '\\xa0Bulgaria', '\\xa0Burma',\n",
       "       '\\xa0Cambodia', '\\xa0Cameroon', '\\xa0Canada', '\\xa0Chile',\n",
       "       '\\xa0China', '\\xa0Colombia',\n",
       "       '\\xa0Congo, Democratic Republic of the',\n",
       "       '\\xa0Congo, Republic of the', '\\xa0Costa Rica',\n",
       "       \"\\xa0Côte d'Ivoire\", '\\xa0Croatia', '\\xa0Cyprus',\n",
       "       '\\xa0Czech Republic', '\\xa0Denmark', '\\xa0Dominican Republic',\n",
       "       '\\xa0Ecuador', '\\xa0Egypt', '\\xa0El Salvador',\n",
       "       '\\xa0Equatorial Guinea', '\\xa0Estonia', '\\xa0Ethiopia',\n",
       "       '\\xa0Finland', '\\xa0France', '\\xa0Gabon', '\\xa0Georgia',\n",
       "       '\\xa0Germany', '\\xa0Ghana', '\\xa0Greece', '\\xa0Guatemala',\n",
       "       '\\xa0Honduras', '\\xa0Hong Kong', '\\xa0Hungary', '\\xa0Iceland',\n",
       "       '\\xa0India', '\\xa0Indonesia', '\\xa0Iran', '\\xa0Iraq',\n",
       "       '\\xa0Ireland', '\\xa0Israel', '\\xa0Italy', '\\xa0Jamaica',\n",
       "       '\\xa0Japan', '\\xa0Jordan', '\\xa0Kazakhstan', '\\xa0Kenya',\n",
       "       '\\xa0Kuwait', '\\xa0Latvia', '\\xa0Lebanon', '\\xa0Libya',\n",
       "       '\\xa0Lithuania', '\\xa0Luxembourg', '\\xa0Malaysia', '\\xa0Mali',\n",
       "       '\\xa0Mauritius', '\\xa0Mexico', '\\xa0Morocco', '\\xa0Mozambique',\n",
       "       '\\xa0Namibia', '\\xa0Nepal', '\\xa0Netherlands', '\\xa0New Zealand',\n",
       "       '\\xa0Nigeria', '\\xa0Norway', '\\xa0Oman', '\\xa0Pakistan',\n",
       "       '\\xa0Panama', '\\xa0Papua New Guinea', '\\xa0Paraguay', '\\xa0Peru',\n",
       "       '\\xa0Philippines', '\\xa0Poland', '\\xa0Portugal', '\\xa0Qatar',\n",
       "       '\\xa0Romania', '\\xa0Russia', '\\xa0Saudi Arabia', '\\xa0Senegal',\n",
       "       '\\xa0Serbia', '\\xa0Singapore', '\\xa0Slovakia', '\\xa0Slovenia',\n",
       "       '\\xa0South Africa', '\\xa0South Korea', '\\xa0Spain',\n",
       "       '\\xa0Sri Lanka', '\\xa0Sudan + \\xa0South Sudan', '\\xa0Sweden',\n",
       "       '\\xa0Switzerland', '\\xa0Taiwan', '\\xa0Tanzania', '\\xa0Thailand',\n",
       "       '\\xa0Trinidad and Tobago', '\\xa0Tunisia', '\\xa0Turkey',\n",
       "       '\\xa0Turkmenistan', '\\xa0Uganda', '\\xa0Ukraine',\n",
       "       '\\xa0United Arab Emirates', '\\xa0United Kingdom',\n",
       "       '\\xa0United States', '\\xa0Uruguay', '\\xa0Uzbekistan',\n",
       "       '\\xa0Venezuela', '\\xa0Vietnam', '\\xa0Yemen', '\\xa0Zambia'],\n",
       "      dtype=object)"
      ]
     },
     "execution_count": 96,
     "metadata": {},
     "output_type": "execute_result"
    }
   ],
   "source": [
    "dat2['Country'].unique()"
   ]
  },
  {
   "cell_type": "code",
   "execution_count": 97,
   "id": "bac8966a-fb01-4e73-83b7-462a965a491e",
   "metadata": {},
   "outputs": [
    {
     "data": {
      "text/plain": [
       "array(['Asia', 'Europe', 'Africa', 'South America', 'Oceania',\n",
       "       'North America'], dtype=object)"
      ]
     },
     "execution_count": 97,
     "metadata": {},
     "output_type": "execute_result"
    }
   ],
   "source": [
    "dat2['Continent'].unique()"
   ]
  },
  {
   "cell_type": "raw",
   "id": "aee82450-5eca-4182-9230-a80b80f440b6",
   "metadata": {},
   "source": [
    "1. H0: Trung bình GDP của các quốc gia trên thế giới là 500 tỉ usd/năm"
   ]
  },
  {
   "cell_type": "code",
   "execution_count": 101,
   "id": "a5f03b80-4101-41b4-ac92-3136acd5b214",
   "metadata": {},
   "outputs": [
    {
     "data": {
      "text/plain": [
       "Ttest_1sampResult(statistic=0.3757438669518338, pvalue=0.7077493494055246)"
      ]
     },
     "execution_count": 101,
     "metadata": {},
     "output_type": "execute_result"
    }
   ],
   "source": [
    "stats.ttest_1samp(dat2['GDP (millions of US$)'], popmean=500000)"
   ]
  },
  {
   "cell_type": "raw",
   "id": "a04cbca8-96ff-478a-a149-cace92224f55",
   "metadata": {},
   "source": [
    "pvalue = 71% --> H0 tương đối chính xác với xác suất chính xác tối thiểu là 70%"
   ]
  },
  {
   "cell_type": "raw",
   "id": "962af935-f904-47aa-90b0-f15e17864c26",
   "metadata": {},
   "source": [
    "2. H0: GDP trung bình ở các quốc gia ở châu Âu cao hơn châu Á"
   ]
  },
  {
   "cell_type": "code",
   "execution_count": 106,
   "id": "7782a25c-b418-422c-8195-fff84a68d41f",
   "metadata": {},
   "outputs": [],
   "source": [
    "euro = dat2.query(\"Continent == 'Europe'\")['GDP (millions of US$)']\n",
    "asia = dat2.query(\"Continent == 'Asia'\")['GDP (millions of US$)']"
   ]
  },
  {
   "cell_type": "code",
   "execution_count": 113,
   "id": "e0381846-b904-4421-9d71-7a8dea20120d",
   "metadata": {},
   "outputs": [
    {
     "data": {
      "image/png": "[encoded data removed]",
      "text/plain": [
       "<Figure size 432x288 with 1 Axes>"
      ]
     },
     "metadata": {
      "needs_background": "light"
     },
     "output_type": "display_data"
    }
   ],
   "source": [
    "sns.kdeplot(euro)\n",
    "sns.kdeplot(asia);"
   ]
  },
  {
   "cell_type": "code",
   "execution_count": 109,
   "id": "c7410c84-354b-421a-8d5b-efcfdda9f777",
   "metadata": {},
   "outputs": [
    {
     "name": "stdout",
     "output_type": "stream",
     "text": [
      "-0.5586877419842815 0.7109336599036771\n"
     ]
    }
   ],
   "source": [
    "tstatic, pvalue = stats.ttest_ind(euro, asia, alternative='greater')\n",
    "print(tstatic, pvalue)"
   ]
  },
  {
   "cell_type": "raw",
   "id": "e5b7e8f2-a99d-4ea6-bb83-33e255d05ac8",
   "metadata": {},
   "source": [
    "Kết luận: các nước châu âu giàu hơn châu á với xác suất chính xác nhỏ nhất là 71%"
   ]
  },
  {
   "cell_type": "code",
   "execution_count": 110,
   "id": "bd856ad1-86d0-425e-be47-b8035c6a613a",
   "metadata": {},
   "outputs": [
    {
     "name": "stdout",
     "output_type": "stream",
     "text": [
      "-0.5586877419842815 0.5781326801926459\n"
     ]
    }
   ],
   "source": [
    "tstatic, pvalue = stats.ttest_ind(euro, asia, alternative='two-sided')\n",
    "print(tstatic, pvalue)"
   ]
  },
  {
   "cell_type": "code",
   "execution_count": 111,
   "id": "fd6a9e6d-6ee1-4dd9-a776-99fe380a2886",
   "metadata": {},
   "outputs": [
    {
     "name": "stdout",
     "output_type": "stream",
     "text": [
      "-0.5586877419842815 0.5781326801926459\n"
     ]
    }
   ],
   "source": [
    "tstatic, pvalue = stats.ttest_ind(euro, asia)\n",
    "print(tstatic, pvalue)"
   ]
  },
  {
   "cell_type": "raw",
   "id": "c1e4bdcd-a59e-47ac-92f3-05fe27028db1",
   "metadata": {},
   "source": [
    "3. H0: GDP trung bình của các quốc gia ở châu Âu và châu Mỹ là bằng nhau"
   ]
  },
  {
   "cell_type": "code",
   "execution_count": 114,
   "id": "29c996a8-512e-4d3e-b392-e2afab6e4330",
   "metadata": {},
   "outputs": [],
   "source": [
    "a = ['South America', 'North America']\n",
    "america = dat2.query(\"Continent in @a\")['GDP (millions of US$)']"
   ]
  },
  {
   "cell_type": "code",
   "execution_count": 116,
   "id": "95adadbe-8324-49f2-901f-7926078cc611",
   "metadata": {},
   "outputs": [
    {
     "data": {
      "image/png": "[encoded data removed]",
      "text/plain": [
       "<Figure size 432x288 with 1 Axes>"
      ]
     },
     "metadata": {
      "needs_background": "light"
     },
     "output_type": "display_data"
    }
   ],
   "source": [
    "sns.kdeplot(euro)\n",
    "sns.kdeplot(america);"
   ]
  },
  {
   "cell_type": "code",
   "execution_count": 115,
   "id": "0afc659c-6d28-4d8d-8caf-920600d46d06",
   "metadata": {},
   "outputs": [
    {
     "data": {
      "text/plain": [
       "Ttest_indResult(statistic=-1.0372877375171978, pvalue=0.3041408163690613)"
      ]
     },
     "execution_count": 115,
     "metadata": {},
     "output_type": "execute_result"
    }
   ],
   "source": [
    "stats.ttest_ind(euro, america)"
   ]
  },
  {
   "cell_type": "raw",
   "id": "a431ce07-26fc-485b-9606-32922af5025a",
   "metadata": {},
   "source": [
    "Kết luận: Không thể kết luận châu và châu Mỹ có GDP bằng nhau"
   ]
  }
 ],
 "metadata": {
  "kernelspec": {
   "display_name": "Python 3 (ipykernel)",
   "language": "python",
   "name": "python3"
  },
  "language_info": {
   "codemirror_mode": {
    "name": "ipython",
    "version": 3
   },
   "file_extension": ".py",
   "mimetype": "text/x-python",
   "name": "python",
   "nbconvert_exporter": "python",
   "pygments_lexer": "ipython3",
   "version": "3.9.12"
  }
 },
 "nbformat": 4,
 "nbformat_minor": 5
}
