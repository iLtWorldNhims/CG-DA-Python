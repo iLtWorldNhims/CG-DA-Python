{
 "cells": [
  {
   "cell_type": "code",
   "execution_count": 62,
   "id": "0eab03fe-aebf-43e0-b14f-a2c1a465edc2",
   "metadata": {
    "tags": []
   },
   "outputs": [],
   "source": [
    "# Không được động vào cell này\n",
    "from ipywidgets import widgets\n",
    "from IPython.display import HTML,Javascript, display\n",
    "from IPython.core.magic import register_cell_magic\n",
    "from IPython.utils.capture import capture_output\n",
    "from IPython import get_ipython\n",
    "from IPython.core import magic_arguments\n",
    "import sys\n",
    "import pandas as pd\n",
    "\n",
    "response = ''\n",
    "score = [0]*11\n",
    "\n",
    "def popup(text):\n",
    "    display(HTML(\"<script>alert('{}');</script>\".format(text)))\n",
    "\n",
    "def final_score(score):\n",
    "    final = 'Diem so la: ' +  str(sum(score)) + '/10'\n",
    "    print(final)\n",
    "    popup(final)\n",
    "\n",
    "@magic_arguments.magic_arguments()\n",
    "@magic_arguments.argument('output', type=str, default='', nargs='?',\n",
    "    help=\"\"\"The name of the variable in which to store output.\n",
    "    This is a utils.io.CapturedIO object with stdout/err attributes\n",
    "    for the text of the captured output.\n",
    "    CapturedOutput also has a show() method for displaying the output,\n",
    "    and __call__ as well, so you can use that to quickly display the\n",
    "    output.\n",
    "    If unspecified, captured output is discarded.\n",
    "    \"\"\"\n",
    ")\n",
    "@magic_arguments.argument('--no-stderr', action=\"store_true\",\n",
    "    help=\"\"\"Don't capture stderr.\"\"\"\n",
    ")\n",
    "@magic_arguments.argument('--no-stdout', action=\"store_true\",\n",
    "    help=\"\"\"Don't capture stdout.\"\"\"\n",
    ")\n",
    "@magic_arguments.argument('--no-display', action=\"store_true\",\n",
    "    help=\"\"\"Don't capture IPython's rich display.\"\"\"\n",
    ")    \n",
    "\n",
    "\n",
    "@register_cell_magic\n",
    "def tee(line, cell):\n",
    "    args = magic_arguments.parse_argstring(tee, line)\n",
    "    out = not args.no_stdout\n",
    "    err = not args.no_stderr\n",
    "    disp = not args.no_display\n",
    "    with capture_output(out, err, disp) as io:\n",
    "        get_ipython().run_cell(cell)\n",
    "    if args.output:\n",
    "        get_ipython().user_ns[args.output] = io\n",
    "    \n",
    "    io()\n",
    "\n",
    "@register_cell_magic('cauhoi')\n",
    "def cauhoi(line, cell):\n",
    "        get_ipython().run_cell(cell)\n",
    "        check[int(line)]()\n",
    "        \n",
    "def cau1():\n",
    "    mark=0\n",
    "    libs = ['pandas','sklearn','matplotlib','numpy']\n",
    "    for lib in libs:\n",
    "        if lib in sys.modules:\n",
    "            mark = mark + 1\n",
    "            # print(lib)\n",
    "    if 'data' in globals():\n",
    "        mark = mark + 1\n",
    "    # print(mark)\n",
    "    if mark == 5 :\n",
    "        score[1] = 1\n",
    "        print('===== Pass =====')\n",
    "    else:\n",
    "        score[1] = 0\n",
    "def cau2():\n",
    "    mark=0\n",
    "    terms=[]\n",
    "    terms.append(\"Cột area chứa 6 giá trị KT\\nCột price chứa 56 giá trị KT\\nCột land_certificate chứa 307 giá trị KT\\nCột house_direction chứa 956 giá trị KT\\nCột balcony_direction chứa 976 giá trị KT\\nCột toilet chứa 449 giá trị KT\\nCột bedroom chứa 365 giá trị KT\\nCột floor chứa 624 giá trị KT\\nCột street_name chứa 192 giá trị KT\\nCột ward_name chứa 198 giá trị KT\")\n",
    "    terms.append('986')\n",
    "    # terms.append(\"Các cột 'area', 'price' có thể xóa\")\n",
    "    for term in terms:\n",
    "        if str(response).find(term) >=0 :\n",
    "            mark = mark + 1\n",
    "    if mark == 2:\n",
    "        score[2] = 1\n",
    "        print('===== Pass =====')\n",
    "    else:\n",
    "        score[2] = 0\n",
    "def cau3():\n",
    "    try:\n",
    "        if data.shape[0]==944 :\n",
    "            score[3] = 1\n",
    "            print('===== Pass =====')\n",
    "    except:\n",
    "        score[3] = 0\n",
    "def cau4():\n",
    "    try:\n",
    "        if data.query(\"land_certificate == 'không có thông tin'\").shape[0]==261 :\n",
    "            score[4] = 1\n",
    "            print('===== Pass =====')\n",
    "    except:\n",
    "        score[4] = 0\n",
    "def cau5():\n",
    "    mark = 0\n",
    "    terms = [919, 931, 560, 472, 700]\n",
    "    list_ = ['house_direction', 'balcony_direction', 'toilet', 'bedroom', 'floor']\n",
    "    try:\n",
    "        for i, col in enumerate(list_):\n",
    "            if data.loc[:,col].value_counts().max() == terms[i]:\n",
    "                mark = mark + 1\n",
    "        if mark == 5:\n",
    "            score[5] = 1\n",
    "            print('===== Pass =====')\n",
    "    except:\n",
    "        score[5] = 0\n",
    "def cau6():\n",
    "    mark = 0\n",
    "    try:\n",
    "        if (nhapho.shape[0]==228) and (nhapho.shape[1]==19):\n",
    "            mark = mark + 1\n",
    "        if (nhapho.loc[1,'giá (triệu/m2)'] == 357.14285714285717) and (nhapho.loc[999,'giá (triệu/m2)'] == 420.5607476635514):\n",
    "            mark = mark + 1\n",
    "        if mark == 2:\n",
    "            score[6] = 1\n",
    "            print('===== Pass =====')\n",
    "    except:\n",
    "        score[6] = 0\n",
    "def cau7():\n",
    "    mark=0\n",
    "    try:\n",
    "        if (nhapho7.shape[0]==223) and (nhapho7.shape[1]==19) :\n",
    "            mark = mark + 1\n",
    "        if str(response).find('Số giá trị bị bỏ đi là 5') >=0:\n",
    "            mark = mark + 1\n",
    "        if nhapho7.loc[1,'area']==35:\n",
    "            mark = mark + 1\n",
    "        if mark == 3:\n",
    "            score[7] = 1\n",
    "            print('===== Pass =====')\n",
    "    except:\n",
    "        score[7] = 0\n",
    "def cau8():\n",
    "    mark=0\n",
    "    try:\n",
    "        if (nhapho8.shape[0]==196) and (nhapho8.shape[1]==19) :\n",
    "            mark = mark + 1\n",
    "        if str(response).find('Số giá trị bị bỏ đi là 32') >=0:\n",
    "            mark = mark + 1\n",
    "        if nhapho8.loc[1,'area']==35:\n",
    "            mark = mark + 1\n",
    "        if mark == 3:\n",
    "            score[8] = 1\n",
    "            print('===== Pass =====')\n",
    "    except:\n",
    "        score[8] = 0\n",
    "def cau9():\n",
    "    mark = 0\n",
    "    terms=[]\n",
    "    terms.append(['Z-score', 'MinMax', 'Robust'])\n",
    "    terms.append(['mode', 'mean', 'median'])\n",
    "    ref = pd.DataFrame([[-5.814029e-02, 0.039586, 0.175644],\n",
    "                       [1.728637e-16, 0.043694, 0.364414],\n",
    "                       [-1.122381e-01, 0.035764, 0.000000]], index=terms[1], columns=terms[0])\n",
    "    try:\n",
    "        for col in terms[0]:\n",
    "            for att in terms[1]:\n",
    "                if (nhapho9.loc[att,col] - ref.loc[att,col] <= 1e-6):\n",
    "                    mark += 1\n",
    "        if mark == 9:\n",
    "            score[9] = 1\n",
    "            print('===== Pass =====')\n",
    "    except:\n",
    "        score[9] = 0\n",
    "def cau10():\n",
    "    mark = 0\n",
    "    terms=[]\n",
    "    terms.append(['Z-score', 'MinMax', 'Robust'])\n",
    "    terms.append(['mode', 'mean', 'median'])\n",
    "    ref = pd.DataFrame([[-0.058140, 0.039586, 0.175644],\n",
    "                       [-0.081952, 0.037903, 0.026918],\n",
    "                       [-0.115635, 0.035524, -0.026551]], index=terms[1], columns=terms[0])\n",
    "    try:\n",
    "        for col in terms[0]:\n",
    "            for att in terms[1]:\n",
    "                # print(nhapho10.loc[att,col] - ref.loc[att,col])\n",
    "                if (nhapho10.loc[att,col] - ref.loc[att,col] <= 1e-6):\n",
    "                    mark += 1\n",
    "        if mark == 9:\n",
    "            score[10] = 1\n",
    "            print('===== Pass =====')\n",
    "    except:\n",
    "        score[10] = 0\n",
    "    \n",
    "check = {1: cau1, 2:cau2, 3: cau3, 4: cau4, 5: cau5, 6: cau6, 7: cau7, 8: cau8, 9: cau9, 10: cau10}"
   ]
  },
  {
   "cell_type": "markdown",
   "id": "1a261b25-7817-4ec7-b71a-124d87a2489f",
   "metadata": {},
   "source": [
    "# Bài tập Tiền xử lý dữ liệu - Phần 1"
   ]
  },
  {
   "cell_type": "markdown",
   "id": "f3456bcb-f192-4ed1-9a29-1af4154003dc",
   "metadata": {
    "tags": []
   },
   "source": [
    "<font color='red' size=\"5\" >Trước và sau khi code xong, chọn 'Kernel'->'Restart Kernel and Run All Cells' để có thể chấm điểm chính xác. </br>\n",
    "Các bạn viết code vào các cell trả lời.  </br>\n",
    "Cell nào cho ra đúng kết quả sẽ có thêm đoạn ===== Pass ===== </br></font> "
   ]
  },
  {
   "cell_type": "markdown",
   "id": "2e0c6694-7f5c-4de7-9817-e9252545276d",
   "metadata": {},
   "source": [
    "**Một công ty mối giới bất động sản, muốn cung cấp dịch vụ tư vấn giao dịch cho khách hàng tại khu vực Đống Đa Hà Nội với loại hình nhà mặt đất. Công ty đã tiến hành thu thập thông tin của một số bất động sản ở các vị trí khác nhau: Thông tin nhân viên của công ty thu thập được gồm:   \n",
    "Area: diện tích  \n",
    "Price: giá căn nhà (tính theo đơn vị tỷ đồng)  \n",
    "postDate: Ngày chủ nhà giao bán trên mạng  \n",
    "land_certificate: Loại giấy tờ  \n",
    "house_direction: hướng nhà   \n",
    "balcony_direction: Hướng ban công  \n",
    "toilet: số lượng toilet  \n",
    "bedroom: Số lượng phòng ngủ  \n",
    "Floor: Số tầng  \n",
    "type_of_land: loại nhà đất (mặt phố hoặc trong ngõ)**"
   ]
  },
  {
   "cell_type": "markdown",
   "id": "3c63b01d-db10-4942-8425-ff32d1ec303c",
   "metadata": {
    "tags": []
   },
   "source": [
    "## Câu 1:"
   ]
  },
  {
   "cell_type": "markdown",
   "id": "c1bd967f-5e04-4994-8706-262b5dbf956b",
   "metadata": {},
   "source": [
    "**Khai báo thư viện pandas, numpy, sklearn, matpotlib.pyplot   \n",
    "Nhập dữ liệu vào biến data**"
   ]
  },
  {
   "cell_type": "code",
   "execution_count": 63,
   "id": "de7da1f9-75ac-4517-b1fc-fb0806d345f7",
   "metadata": {
    "tags": []
   },
   "outputs": [
    {
     "name": "stdout",
     "output_type": "stream",
     "text": [
      "Đã nhập khai báo dữ liệu thành công\n",
      "Đã nhập dữ liệu thành công\n"
     ]
    },
    {
     "name": "stderr",
     "output_type": "stream",
     "text": [
      "C:\\Users\\Hamilton\\anaconda3.9\\lib\\site-packages\\openpyxl\\worksheet\\_reader.py:312: UserWarning: Unknown extension is not supported and will be removed\n",
      "  warn(msg)\n"
     ]
    },
    {
     "data": {
      "text/html": [
       "<div>\n",
       "<style scoped>\n",
       "    .dataframe tbody tr th:only-of-type {\n",
       "        vertical-align: middle;\n",
       "    }\n",
       "\n",
       "    .dataframe tbody tr th {\n",
       "        vertical-align: top;\n",
       "    }\n",
       "\n",
       "    .dataframe thead th {\n",
       "        text-align: right;\n",
       "    }\n",
       "</style>\n",
       "<table border=\"1\" class=\"dataframe\">\n",
       "  <thead>\n",
       "    <tr style=\"text-align: right;\">\n",
       "      <th></th>\n",
       "      <th>title</th>\n",
       "      <th>address</th>\n",
       "      <th>area</th>\n",
       "      <th>price</th>\n",
       "      <th>postDate</th>\n",
       "      <th>land_certificate</th>\n",
       "      <th>house_direction</th>\n",
       "      <th>balcony_direction</th>\n",
       "      <th>toilet</th>\n",
       "      <th>bedroom</th>\n",
       "      <th>floor</th>\n",
       "      <th>type_of_land</th>\n",
       "      <th>street_name</th>\n",
       "      <th>ward_name</th>\n",
       "      <th>district_name</th>\n",
       "      <th>city_name</th>\n",
       "      <th>lat</th>\n",
       "      <th>long</th>\n",
       "    </tr>\n",
       "  </thead>\n",
       "  <tbody>\n",
       "    <tr>\n",
       "      <th>0</th>\n",
       "      <td>Bán nhà Trần Quang Diệu mới coong đẹp 50m2x6 t...</td>\n",
       "      <td>Đường Trần Quang Diệu, Phường Trung Liệt, Đốn...</td>\n",
       "      <td>50.0</td>\n",
       "      <td>14700.0</td>\n",
       "      <td>2021-01-01</td>\n",
       "      <td>Sổ đỏ</td>\n",
       "      <td>NaN</td>\n",
       "      <td>NaN</td>\n",
       "      <td>4.0</td>\n",
       "      <td>6.0</td>\n",
       "      <td>6.0</td>\n",
       "      <td>Bán nhà riêng\\n</td>\n",
       "      <td>Đường Trần Quang Diệu</td>\n",
       "      <td>Phường Trung Liệt</td>\n",
       "      <td>Quận Đống Đa</td>\n",
       "      <td>Thành phố Hà Nội</td>\n",
       "      <td>21.015698</td>\n",
       "      <td>105.824583</td>\n",
       "    </tr>\n",
       "    <tr>\n",
       "      <th>1</th>\n",
       "      <td>Bán nhà mặt phố Tây Sơn - 6 tầng. Kinh doanh t...</td>\n",
       "      <td>Đường Tây Sơn, Phường Trung Liệt, Đống Đa, Hà...</td>\n",
       "      <td>35.0</td>\n",
       "      <td>12500.0</td>\n",
       "      <td>2021-02-19</td>\n",
       "      <td>Sổ đỏ</td>\n",
       "      <td>NaN</td>\n",
       "      <td>NaN</td>\n",
       "      <td>NaN</td>\n",
       "      <td>NaN</td>\n",
       "      <td>6.0</td>\n",
       "      <td>Bán nhà mặt phố\\n</td>\n",
       "      <td>Phố Trung Liệt</td>\n",
       "      <td>Phường Trung Liệt</td>\n",
       "      <td>Quận Đống Đa</td>\n",
       "      <td>Thành phố Hà Nội</td>\n",
       "      <td>21.008930</td>\n",
       "      <td>105.824105</td>\n",
       "    </tr>\n",
       "    <tr>\n",
       "      <th>2</th>\n",
       "      <td>Bán nhà số 36 Đoàn Kết - phố Khâm Thiên - Đống...</td>\n",
       "      <td>Số 36 Đoàn Kết, Phố Khâm Thiên, Phường Thổ Qu...</td>\n",
       "      <td>57.0</td>\n",
       "      <td>4200.0</td>\n",
       "      <td>2021-03-10</td>\n",
       "      <td>Sổ đỏ</td>\n",
       "      <td>Nam</td>\n",
       "      <td>Nam</td>\n",
       "      <td>3.0</td>\n",
       "      <td>8.0</td>\n",
       "      <td>4.0</td>\n",
       "      <td>Bán nhà riêng\\n</td>\n",
       "      <td>Phố Khâm Thiên</td>\n",
       "      <td>Phường Khâm Thiên</td>\n",
       "      <td>Quận Đống Đa</td>\n",
       "      <td>Thành phố Hà Nội</td>\n",
       "      <td>21.025208</td>\n",
       "      <td>105.833111</td>\n",
       "    </tr>\n",
       "    <tr>\n",
       "      <th>3</th>\n",
       "      <td>Bán nhà 6 tầng mới kinh doanh mặt ngõ 1194 Đườ...</td>\n",
       "      <td>Ngõ 1194, Đường Láng, Phường Láng Thượng, Đố...</td>\n",
       "      <td>62.0</td>\n",
       "      <td>11000.0</td>\n",
       "      <td>2021-03-13</td>\n",
       "      <td>Sổ đỏ</td>\n",
       "      <td>Đông</td>\n",
       "      <td>Đông-Nam</td>\n",
       "      <td>6.0</td>\n",
       "      <td>5.0</td>\n",
       "      <td>6.0</td>\n",
       "      <td>Bán nhà riêng\\n</td>\n",
       "      <td>Đường Láng Thượng</td>\n",
       "      <td>Phường Láng Thượng</td>\n",
       "      <td>Quận Đống Đa</td>\n",
       "      <td>Thành phố Hà Nội</td>\n",
       "      <td>21.025379</td>\n",
       "      <td>105.801011</td>\n",
       "    </tr>\n",
       "    <tr>\n",
       "      <th>4</th>\n",
       "      <td>Bán nhà mặt phố Thái Hà 70m2, 5 tầng, 4.5m mặt...</td>\n",
       "      <td>Phố Thái Hà, Phường Trung Liệt, Đống Đa, Hà Nội</td>\n",
       "      <td>70.0</td>\n",
       "      <td>36000.0</td>\n",
       "      <td>2021-03-13</td>\n",
       "      <td>Sổ đỏ</td>\n",
       "      <td>NaN</td>\n",
       "      <td>NaN</td>\n",
       "      <td>NaN</td>\n",
       "      <td>6.0</td>\n",
       "      <td>5.0</td>\n",
       "      <td>Bán nhà mặt phố\\n</td>\n",
       "      <td>Phố Trung Liệt</td>\n",
       "      <td>Phường Trung Liệt</td>\n",
       "      <td>Quận Đống Đa</td>\n",
       "      <td>Thành phố Hà Nội</td>\n",
       "      <td>21.009239</td>\n",
       "      <td>105.824230</td>\n",
       "    </tr>\n",
       "    <tr>\n",
       "      <th>...</th>\n",
       "      <td>...</td>\n",
       "      <td>...</td>\n",
       "      <td>...</td>\n",
       "      <td>...</td>\n",
       "      <td>...</td>\n",
       "      <td>...</td>\n",
       "      <td>...</td>\n",
       "      <td>...</td>\n",
       "      <td>...</td>\n",
       "      <td>...</td>\n",
       "      <td>...</td>\n",
       "      <td>...</td>\n",
       "      <td>...</td>\n",
       "      <td>...</td>\n",
       "      <td>...</td>\n",
       "      <td>...</td>\n",
       "      <td>...</td>\n",
       "      <td>...</td>\n",
       "    </tr>\n",
       "    <tr>\n",
       "      <th>995</th>\n",
       "      <td>Bán nhà mặt phố Yên Lãng, Đống Đa, 65m2, 5T, 1...</td>\n",
       "      <td>Đường Yên Lãng, Phường Láng Hạ, Đống Đa, Hà...</td>\n",
       "      <td>65.0</td>\n",
       "      <td>17500.0</td>\n",
       "      <td>2021-05-09</td>\n",
       "      <td>Sổ đỏ</td>\n",
       "      <td>NaN</td>\n",
       "      <td>NaN</td>\n",
       "      <td>NaN</td>\n",
       "      <td>6.0</td>\n",
       "      <td>5.0</td>\n",
       "      <td>Bán nhà mặt phố\\n</td>\n",
       "      <td>Đường Yên Lãng</td>\n",
       "      <td>Phường Láng Hạ</td>\n",
       "      <td>Quận Đống Đa</td>\n",
       "      <td>Thành phố Hà Nội</td>\n",
       "      <td>21.011495</td>\n",
       "      <td>105.816666</td>\n",
       "    </tr>\n",
       "    <tr>\n",
       "      <th>996</th>\n",
       "      <td>Bán nhà 5 tầng đep MP Yên Lãng giá rẻ, DT 60m2...</td>\n",
       "      <td>Đường Yên Lãng, Phường Trung Liệt, Đống Đa, ...</td>\n",
       "      <td>60.0</td>\n",
       "      <td>17500.0</td>\n",
       "      <td>2021-01-01</td>\n",
       "      <td>NaN</td>\n",
       "      <td>NaN</td>\n",
       "      <td>NaN</td>\n",
       "      <td>NaN</td>\n",
       "      <td>NaN</td>\n",
       "      <td>NaN</td>\n",
       "      <td>Bán nhà mặt phố\\n</td>\n",
       "      <td>Phố Trung Liệt</td>\n",
       "      <td>Phường Trung Liệt</td>\n",
       "      <td>Quận Đống Đa</td>\n",
       "      <td>Thành phố Hà Nội</td>\n",
       "      <td>21.011495</td>\n",
       "      <td>105.816666</td>\n",
       "    </tr>\n",
       "    <tr>\n",
       "      <th>997</th>\n",
       "      <td>MẶT PHỐ XÃ ĐÀN - KINH DOANH ĐỈNH CAO - 6 TẦNG ...</td>\n",
       "      <td>Phố Xã Đàn, Phường Ô Chợ Dừa, Đống Đa, Hà Nội</td>\n",
       "      <td>45.0</td>\n",
       "      <td>24800.0</td>\n",
       "      <td>2021-01-01</td>\n",
       "      <td>NaN</td>\n",
       "      <td>NaN</td>\n",
       "      <td>NaN</td>\n",
       "      <td>NaN</td>\n",
       "      <td>NaN</td>\n",
       "      <td>NaN</td>\n",
       "      <td>Bán nhà mặt phố\\n</td>\n",
       "      <td>Đường Ô Chợ Dừa</td>\n",
       "      <td>Phường Ô Chợ Dừa</td>\n",
       "      <td>Quận Đống Đa</td>\n",
       "      <td>Thành phố Hà Nội</td>\n",
       "      <td>21.016106</td>\n",
       "      <td>105.832157</td>\n",
       "    </tr>\n",
       "    <tr>\n",
       "      <th>998</th>\n",
       "      <td>Bán nhà mặt hồ Văn Chương, Đống Đa 33m2, 6 tần...</td>\n",
       "      <td>Hồ Văn Chương, Phường Văn Chương, Quận Đống Đa...</td>\n",
       "      <td>178.0</td>\n",
       "      <td>8100.0</td>\n",
       "      <td>2021-01-01</td>\n",
       "      <td>Sổ đỏ</td>\n",
       "      <td>NaN</td>\n",
       "      <td>NaN</td>\n",
       "      <td>4.0</td>\n",
       "      <td>3.0</td>\n",
       "      <td>NaN</td>\n",
       "      <td>Bán nhà riêng</td>\n",
       "      <td>Đường Hồ Văn Chương</td>\n",
       "      <td>Phường Văn Chương</td>\n",
       "      <td>Quận Đống Đa</td>\n",
       "      <td>Thành phố Hà Nội</td>\n",
       "      <td>21.021345</td>\n",
       "      <td>105.833122</td>\n",
       "    </tr>\n",
       "    <tr>\n",
       "      <th>999</th>\n",
       "      <td>Bán nhà 5 tầng MP Chùa Bộc hạ giá sốc, tử 58,6...</td>\n",
       "      <td>Phố Chùa Bộc, Phường Khương Thượng, Đống Đa, ...</td>\n",
       "      <td>107.0</td>\n",
       "      <td>45000.0</td>\n",
       "      <td>2021-05-09</td>\n",
       "      <td>Sổ đỏ</td>\n",
       "      <td>NaN</td>\n",
       "      <td>NaN</td>\n",
       "      <td>NaN</td>\n",
       "      <td>NaN</td>\n",
       "      <td>5.0</td>\n",
       "      <td>Bán nhà mặt phố\\n</td>\n",
       "      <td>Phố Khương Thượng</td>\n",
       "      <td>Phường Khương Thượng</td>\n",
       "      <td>Quận Đống Đa</td>\n",
       "      <td>Thành phố Hà Nội</td>\n",
       "      <td>21.009123</td>\n",
       "      <td>105.824428</td>\n",
       "    </tr>\n",
       "  </tbody>\n",
       "</table>\n",
       "<p>1000 rows × 18 columns</p>\n",
       "</div>"
      ],
      "text/plain": [
       "                                                 title  \\\n",
       "0    Bán nhà Trần Quang Diệu mới coong đẹp 50m2x6 t...   \n",
       "1    Bán nhà mặt phố Tây Sơn - 6 tầng. Kinh doanh t...   \n",
       "2    Bán nhà số 36 Đoàn Kết - phố Khâm Thiên - Đống...   \n",
       "3    Bán nhà 6 tầng mới kinh doanh mặt ngõ 1194 Đườ...   \n",
       "4    Bán nhà mặt phố Thái Hà 70m2, 5 tầng, 4.5m mặt...   \n",
       "..                                                 ...   \n",
       "995  Bán nhà mặt phố Yên Lãng, Đống Đa, 65m2, 5T, 1...   \n",
       "996  Bán nhà 5 tầng đep MP Yên Lãng giá rẻ, DT 60m2...   \n",
       "997  MẶT PHỐ XÃ ĐÀN - KINH DOANH ĐỈNH CAO - 6 TẦNG ...   \n",
       "998  Bán nhà mặt hồ Văn Chương, Đống Đa 33m2, 6 tần...   \n",
       "999  Bán nhà 5 tầng MP Chùa Bộc hạ giá sốc, tử 58,6...   \n",
       "\n",
       "                                               address   area    price  \\\n",
       "0    Đường Trần Quang Diệu, Phường Trung Liệt, Đốn...   50.0  14700.0   \n",
       "1    Đường Tây Sơn, Phường Trung Liệt, Đống Đa, Hà...   35.0  12500.0   \n",
       "2    Số 36 Đoàn Kết, Phố Khâm Thiên, Phường Thổ Qu...   57.0   4200.0   \n",
       "3    Ngõ 1194, Đường Láng, Phường Láng Thượng, Đố...   62.0  11000.0   \n",
       "4     Phố Thái Hà, Phường Trung Liệt, Đống Đa, Hà Nội   70.0  36000.0   \n",
       "..                                                 ...    ...      ...   \n",
       "995  Đường Yên Lãng, Phường Láng Hạ, Đống Đa, Hà...   65.0  17500.0   \n",
       "996  Đường Yên Lãng, Phường Trung Liệt, Đống Đa, ...   60.0  17500.0   \n",
       "997    Phố Xã Đàn, Phường Ô Chợ Dừa, Đống Đa, Hà Nội   45.0  24800.0   \n",
       "998  Hồ Văn Chương, Phường Văn Chương, Quận Đống Đa...  178.0   8100.0   \n",
       "999  Phố Chùa Bộc, Phường Khương Thượng, Đống Đa, ...  107.0  45000.0   \n",
       "\n",
       "      postDate land_certificate house_direction balcony_direction  toilet  \\\n",
       "0   2021-01-01            Sổ đỏ             NaN               NaN     4.0   \n",
       "1   2021-02-19            Sổ đỏ             NaN               NaN     NaN   \n",
       "2   2021-03-10            Sổ đỏ             Nam               Nam     3.0   \n",
       "3   2021-03-13            Sổ đỏ            Đông          Đông-Nam     6.0   \n",
       "4   2021-03-13            Sổ đỏ             NaN               NaN     NaN   \n",
       "..         ...              ...             ...               ...     ...   \n",
       "995 2021-05-09            Sổ đỏ             NaN               NaN     NaN   \n",
       "996 2021-01-01              NaN             NaN               NaN     NaN   \n",
       "997 2021-01-01              NaN             NaN               NaN     NaN   \n",
       "998 2021-01-01            Sổ đỏ             NaN               NaN     4.0   \n",
       "999 2021-05-09            Sổ đỏ             NaN               NaN     NaN   \n",
       "\n",
       "     bedroom  floor        type_of_land            street_name  \\\n",
       "0        6.0    6.0    Bán nhà riêng\\n   Đường Trần Quang Diệu   \n",
       "1        NaN    6.0  Bán nhà mặt phố\\n          Phố Trung Liệt   \n",
       "2        8.0    4.0    Bán nhà riêng\\n          Phố Khâm Thiên   \n",
       "3        5.0    6.0    Bán nhà riêng\\n       Đường Láng Thượng   \n",
       "4        6.0    5.0  Bán nhà mặt phố\\n          Phố Trung Liệt   \n",
       "..       ...    ...                 ...                    ...   \n",
       "995      6.0    5.0  Bán nhà mặt phố\\n         Đường Yên Lãng   \n",
       "996      NaN    NaN  Bán nhà mặt phố\\n          Phố Trung Liệt   \n",
       "997      NaN    NaN  Bán nhà mặt phố\\n         Đường Ô Chợ Dừa   \n",
       "998      3.0    NaN       Bán nhà riêng    Đường Hồ Văn Chương   \n",
       "999      NaN    5.0  Bán nhà mặt phố\\n       Phố Khương Thượng   \n",
       "\n",
       "                ward_name district_name         city_name        lat  \\\n",
       "0       Phường Trung Liệt  Quận Đống Đa  Thành phố Hà Nội  21.015698   \n",
       "1       Phường Trung Liệt  Quận Đống Đa  Thành phố Hà Nội  21.008930   \n",
       "2       Phường Khâm Thiên  Quận Đống Đa  Thành phố Hà Nội  21.025208   \n",
       "3      Phường Láng Thượng  Quận Đống Đa  Thành phố Hà Nội  21.025379   \n",
       "4       Phường Trung Liệt  Quận Đống Đa  Thành phố Hà Nội  21.009239   \n",
       "..                    ...           ...               ...        ...   \n",
       "995        Phường Láng Hạ  Quận Đống Đa  Thành phố Hà Nội  21.011495   \n",
       "996     Phường Trung Liệt  Quận Đống Đa  Thành phố Hà Nội  21.011495   \n",
       "997      Phường Ô Chợ Dừa  Quận Đống Đa  Thành phố Hà Nội  21.016106   \n",
       "998     Phường Văn Chương  Quận Đống Đa  Thành phố Hà Nội  21.021345   \n",
       "999  Phường Khương Thượng  Quận Đống Đa  Thành phố Hà Nội  21.009123   \n",
       "\n",
       "           long  \n",
       "0    105.824583  \n",
       "1    105.824105  \n",
       "2    105.833111  \n",
       "3    105.801011  \n",
       "4    105.824230  \n",
       "..          ...  \n",
       "995  105.816666  \n",
       "996  105.816666  \n",
       "997  105.832157  \n",
       "998  105.833122  \n",
       "999  105.824428  \n",
       "\n",
       "[1000 rows x 18 columns]"
      ]
     },
     "metadata": {},
     "output_type": "display_data"
    },
    {
     "name": "stdout",
     "output_type": "stream",
     "text": [
      "===== Pass =====\n"
     ]
    }
   ],
   "source": [
    "%%cauhoi 1\n",
    "%%tee response\n",
    "# Code dưới dòng này\n",
    "\n",
    "#Khai báo thư viện\n",
    "import pandas as pd\n",
    "import numpy as np\n",
    "from matplotlib import pyplot as plt\n",
    "# import matplotlib.pyplot as plt\n",
    "from sklearn import preprocessing as pp\n",
    "print('Đã nhập khai báo dữ liệu thành công')\n",
    "\n",
    "#Nhập dữ liệu\n",
    "data = pd.read_excel('house_price_dống-da.xlsx', header=0)\n",
    "display(data)\n",
    "print('Đã nhập dữ liệu thành công')"
   ]
  },
  {
   "cell_type": "code",
   "execution_count": 64,
   "id": "4c318823-6df3-4daa-afd7-276aaf7f651c",
   "metadata": {
    "tags": []
   },
   "outputs": [
    {
     "data": {
      "text/plain": [
       "array(['Bán nhà riêng\\n ', 'Bán nhà mặt phố\\n ', 'Tập thể, cư xá',\n",
       "       'Bán nhà riêng', 'Bán nhà mặt phố', 'Chung cư',\n",
       "       'Bất động sản khác', 'Bất động sản khác\\n ', 'Đất thổ cư'],\n",
       "      dtype=object)"
      ]
     },
     "execution_count": 64,
     "metadata": {},
     "output_type": "execute_result"
    }
   ],
   "source": [
    "data.loc[:,'type_of_land'].unique()"
   ]
  },
  {
   "cell_type": "code",
   "execution_count": 65,
   "id": "04373a6c-b809-4fc1-bd20-86046b19d4a6",
   "metadata": {},
   "outputs": [
    {
     "data": {
      "text/plain": [
       "Index(['title', 'address', 'area', 'price', 'postDate', 'land_certificate',\n",
       "       'house_direction', 'balcony_direction', 'toilet', 'bedroom', 'floor',\n",
       "       'type_of_land', 'street_name', 'ward_name', 'district_name',\n",
       "       'city_name', 'lat', 'long'],\n",
       "      dtype='object')"
      ]
     },
     "execution_count": 65,
     "metadata": {},
     "output_type": "execute_result"
    }
   ],
   "source": [
    "data.columns"
   ]
  },
  {
   "cell_type": "code",
   "execution_count": 66,
   "id": "80126eb3-5f7a-4207-bf33-345d31e01e69",
   "metadata": {
    "tags": []
   },
   "outputs": [
    {
     "name": "stdout",
     "output_type": "stream",
     "text": [
      "<class 'pandas.core.frame.DataFrame'>\n",
      "RangeIndex: 1000 entries, 0 to 999\n",
      "Data columns (total 18 columns):\n",
      " #   Column             Non-Null Count  Dtype         \n",
      "---  ------             --------------  -----         \n",
      " 0   title              1000 non-null   object        \n",
      " 1   address            1000 non-null   object        \n",
      " 2   area               994 non-null    float64       \n",
      " 3   price              944 non-null    float64       \n",
      " 4   postDate           1000 non-null   datetime64[ns]\n",
      " 5   land_certificate   693 non-null    object        \n",
      " 6   house_direction    44 non-null     object        \n",
      " 7   balcony_direction  24 non-null     object        \n",
      " 8   toilet             551 non-null    float64       \n",
      " 9   bedroom            635 non-null    float64       \n",
      " 10  floor              376 non-null    float64       \n",
      " 11  type_of_land       1000 non-null   object        \n",
      " 12  street_name        808 non-null    object        \n",
      " 13  ward_name          802 non-null    object        \n",
      " 14  district_name      1000 non-null   object        \n",
      " 15  city_name          1000 non-null   object        \n",
      " 16  lat                1000 non-null   float64       \n",
      " 17  long               1000 non-null   float64       \n",
      "dtypes: datetime64[ns](1), float64(7), object(10)\n",
      "memory usage: 140.8+ KB\n"
     ]
    }
   ],
   "source": [
    "data.info()"
   ]
  },
  {
   "cell_type": "markdown",
   "id": "a3978d3d-7927-41b1-b131-657406a4faf2",
   "metadata": {
    "tags": []
   },
   "source": [
    "## Câu 2:"
   ]
  },
  {
   "cell_type": "markdown",
   "id": "6e566f8a-da9c-4655-9210-549bfd379c2a",
   "metadata": {},
   "source": [
    "**Phát hiện các cột chứa dữ liệu khuyết thiếu  \n",
    "Số lượng các dòng chứa dữ liệu khuyết thiếu  \n",
    "Nhận xét xem loại dữ liệu nào có thể xóa nếu có khuyết thiếu**"
   ]
  },
  {
   "cell_type": "markdown",
   "id": "0ac69c1c-f528-4d20-8ff2-6d408ab37612",
   "metadata": {},
   "source": [
    "**Expected answers:**"
   ]
  },
  {
   "cell_type": "markdown",
   "id": "59e1d4a2-9aaa-4caf-97ca-66c130e900bd",
   "metadata": {
    "tags": []
   },
   "source": [
    "Cột AAA chứa BBB giá trị KT  \n",
    "Cột AAAA chứa BBBB giá trị KT  \n",
    "...  \n",
    "Tổng số lượng dòng có chứa giá trị khuyết thiếu là:  CCC  \n",
    "...  \n",
    "Các cột 'DDD', 'EEE', '...' có thể xóa"
   ]
  },
  {
   "cell_type": "code",
   "execution_count": 67,
   "id": "8a6a3c3e-07d5-432c-992b-a5a86fa48e9c",
   "metadata": {
    "tags": []
   },
   "outputs": [
    {
     "name": "stdout",
     "output_type": "stream",
     "text": [
      "Các cột chứa dữ liệu khuyết thiếu là:\n",
      "Cột area chứa 6 giá trị KT\n",
      "Cột price chứa 56 giá trị KT\n",
      "Cột land_certificate chứa 307 giá trị KT\n",
      "Cột house_direction chứa 956 giá trị KT\n",
      "Cột balcony_direction chứa 976 giá trị KT\n",
      "Cột toilet chứa 449 giá trị KT\n",
      "Cột bedroom chứa 365 giá trị KT\n",
      "Cột floor chứa 624 giá trị KT\n",
      "Cột street_name chứa 192 giá trị KT\n",
      "Cột ward_name chứa 198 giá trị KT\n",
      "Tổng số lượng dòng có chứa giá trị khuyết thiếu là:  986\n",
      "Các cột 'area', 'price' có thể xóa\n",
      "Bởi vì số lượng khuyết thiếu là thiểu số, và nếu thiếu các dữ liệu này thì dòng đấy sẽ mất đi nhiều ý nghĩa.\n",
      "===== Pass =====\n"
     ]
    }
   ],
   "source": [
    "%%cauhoi 2\n",
    "%%tee response\n",
    "# Code dưới dòng này\n",
    "\n",
    "#Các cột chứa giá trị khuyết thiếu\n",
    "print('Các cột chứa dữ liệu khuyết thiếu là:')\n",
    "for index, column in enumerate(data.columns):\n",
    "    temp = data.loc[:,column].isnull()\n",
    "    if temp.sum() > 0:\n",
    "        print('Cột', data.columns[index], 'chứa' , temp.sum() , 'giá trị KT')\n",
    "        \n",
    "#Số lượng dòng chứa giá trị khuyết thiếu\n",
    "print('Tổng số lượng dòng có chứa giá trị khuyết thiếu là: ', data.shape[0] - data.dropna().shape[0])\n",
    "\n",
    "#Loại dữ liệu có thể xóa nếu có khuyết thiếu\n",
    "print(\"Các cột 'area', 'price' có thể xóa\")\n",
    "print(\"Bởi vì số lượng khuyết thiếu là thiểu số, và nếu thiếu các dữ liệu này thì dòng đấy sẽ mất đi nhiều ý nghĩa.\")"
   ]
  },
  {
   "cell_type": "markdown",
   "id": "dd9382f7-cbe4-4d39-b66f-c6ac11eebb14",
   "metadata": {
    "tags": []
   },
   "source": [
    "## Câu 3:"
   ]
  },
  {
   "cell_type": "markdown",
   "id": "241cd909-1422-411b-ad10-c8b57f79310d",
   "metadata": {},
   "source": [
    "**Xóa bỏ hết tất cả những dòng dữ liệu không có thông tin về giá**"
   ]
  },
  {
   "cell_type": "code",
   "execution_count": 68,
   "id": "946ca753-62eb-4d1b-8db5-cf9b7366e25c",
   "metadata": {
    "tags": []
   },
   "outputs": [
    {
     "name": "stdout",
     "output_type": "stream",
     "text": [
      "===== Pass =====\n"
     ]
    }
   ],
   "source": [
    "%%cauhoi 3\n",
    "%%tee response\n",
    "# Code dưới dòng này\n",
    "\n",
    "# data = data.dropna(subset='price')\n",
    "\n",
    "data.dropna(subset=['price'],inplace=True)"
   ]
  },
  {
   "cell_type": "markdown",
   "id": "d8e2d6ab-f48d-4ce8-a2fc-287105303b62",
   "metadata": {
    "tags": []
   },
   "source": [
    "## Câu 4:"
   ]
  },
  {
   "cell_type": "markdown",
   "id": "c49ea9cf-140f-4582-9fc7-36e985238a60",
   "metadata": {
    "tags": []
   },
   "source": [
    "**Thay thế giá trị khuyết thiếu của land_certificate bằng =”không có thông tin”**"
   ]
  },
  {
   "cell_type": "code",
   "execution_count": 69,
   "id": "963424b4-6a41-4b29-8ef5-31830dc0c460",
   "metadata": {
    "tags": []
   },
   "outputs": [
    {
     "name": "stdout",
     "output_type": "stream",
     "text": [
      "===== Pass =====\n"
     ]
    }
   ],
   "source": [
    "%%cauhoi 4\n",
    "%%tee response\n",
    "# Code dưới dòng này\n",
    "\n",
    "data.loc[:,'land_certificate'].fillna('không có thông tin', inplace=True)\n",
    "# data.loc[:,'land_certificate']\n",
    "\n",
    "# data['land_certificate'] = data['land_certificate'].fillna('Không có thông tin')"
   ]
  },
  {
   "cell_type": "markdown",
   "id": "a31ff9c5-0b77-4b59-9697-0d4a9d0bcae0",
   "metadata": {
    "tags": []
   },
   "source": [
    "## Câu 5:"
   ]
  },
  {
   "cell_type": "markdown",
   "id": "9f5caf9d-f07b-42c0-b11c-6b4cedd859db",
   "metadata": {},
   "source": [
    "**Thay thế giá trị khuyết thiếu của house_direction, balcony_direction, toilet, bedroom, floor  bằng giá trị có tần số xuất hiện lớn nhất của các thuộc tính đó**"
   ]
  },
  {
   "cell_type": "code",
   "execution_count": 70,
   "id": "b506883c-7fd6-4422-9dbc-3f2df3fea275",
   "metadata": {
    "tags": []
   },
   "outputs": [
    {
     "name": "stdout",
     "output_type": "stream",
     "text": [
      "===== Pass =====\n"
     ]
    }
   ],
   "source": [
    "%%cauhoi 5\n",
    "%%tee response\n",
    "# Code dưới dòng này\n",
    "data.fillna({\"house_direction\": data[\"house_direction\"].mode()[0],\n",
    "          \"balcony_direction\": data[\"balcony_direction\"].mode()[0], \n",
    "          \"toilet\": data[\"toilet\"].mode()[0],\n",
    "          \"bedroom\":data[\"bedroom\"].mode()[0],\n",
    "          \"floor\":data[\"floor\"].mode()[0]},inplace=True)\n",
    "\n",
    "# list_ = ['house_direction', 'balcony_direction', 'toilet', 'bedroom', 'floor']\n",
    "# for col in list_ :\n",
    "#     data.loc[:,col].fillna(data.loc[:,col].mode()[0], inplace=True)"
   ]
  },
  {
   "cell_type": "markdown",
   "id": "d223fda3-ea65-4e88-9c4d-ccef9eba7e17",
   "metadata": {
    "tags": []
   },
   "source": [
    "## Câu 6:"
   ]
  },
  {
   "cell_type": "markdown",
   "id": "0d044f4a-a03d-4e90-9b6b-f874231cad1b",
   "metadata": {},
   "source": [
    "**Lọc thông tin những bất động sản nhà mặt phố thành bộ dữ liệu nhà mặt phố  \n",
    "Tính toán giá/m2  ( đơn vị triệu/m2) với loại hình nhà mặt phố**"
   ]
  },
  {
   "cell_type": "markdown",
   "id": "113c498d-3a79-42a5-a6ae-67a2befd3287",
   "metadata": {},
   "source": [
    "**Expected answers:**"
   ]
  },
  {
   "cell_type": "markdown",
   "id": "58c9d189-41fc-4837-bb72-a64f73166b61",
   "metadata": {
    "tags": []
   },
   "source": [
    "bộ dữ liệu mới có tên \"nhapho\"\n",
    "\n",
    "cột mới có tên \"giá (triệu/m2)\"\n",
    "\n",
    "không sort lại index\n",
    "\n",
    "Chú ý dữ liệu khuyết thiếu"
   ]
  },
  {
   "cell_type": "code",
   "execution_count": 71,
   "id": "48826729-6a6b-4aee-b7e9-23bc87c18cc4",
   "metadata": {
    "jupyter": {
     "source_hidden": true
    },
    "tags": []
   },
   "outputs": [
    {
     "name": "stderr",
     "output_type": "stream",
     "text": [
      "C:\\Users\\Hamilton\\AppData\\Local\\Temp\\ipykernel_1996\\3755020254.py:4: SettingWithCopyWarning: \n",
      "A value is trying to be set on a copy of a slice from a DataFrame.\n",
      "Try using .loc[row_indexer,col_indexer] = value instead\n",
      "\n",
      "See the caveats in the documentation: https://pandas.pydata.org/pandas-docs/stable/user_guide/indexing.html#returning-a-view-versus-a-copy\n",
      "  nhapho.loc[:,\"giá (triệu/m2)\"] = nhapho.loc[:,'price'] / nhapho.loc[:,'area']\n",
      "C:\\Users\\Hamilton\\AppData\\Local\\Temp\\ipykernel_1996\\3755020254.py:5: SettingWithCopyWarning: \n",
      "A value is trying to be set on a copy of a slice from a DataFrame\n",
      "\n",
      "See the caveats in the documentation: https://pandas.pydata.org/pandas-docs/stable/user_guide/indexing.html#returning-a-view-versus-a-copy\n",
      "  nhapho.dropna(subset = ['giá (triệu/m2)'], inplace = True)\n"
     ]
    },
    {
     "data": {
      "text/html": [
       "<div>\n",
       "<style scoped>\n",
       "    .dataframe tbody tr th:only-of-type {\n",
       "        vertical-align: middle;\n",
       "    }\n",
       "\n",
       "    .dataframe tbody tr th {\n",
       "        vertical-align: top;\n",
       "    }\n",
       "\n",
       "    .dataframe thead th {\n",
       "        text-align: right;\n",
       "    }\n",
       "</style>\n",
       "<table border=\"1\" class=\"dataframe\">\n",
       "  <thead>\n",
       "    <tr style=\"text-align: right;\">\n",
       "      <th></th>\n",
       "      <th>title</th>\n",
       "      <th>address</th>\n",
       "      <th>area</th>\n",
       "      <th>price</th>\n",
       "      <th>postDate</th>\n",
       "      <th>land_certificate</th>\n",
       "      <th>house_direction</th>\n",
       "      <th>balcony_direction</th>\n",
       "      <th>toilet</th>\n",
       "      <th>bedroom</th>\n",
       "      <th>floor</th>\n",
       "      <th>type_of_land</th>\n",
       "      <th>street_name</th>\n",
       "      <th>ward_name</th>\n",
       "      <th>district_name</th>\n",
       "      <th>city_name</th>\n",
       "      <th>lat</th>\n",
       "      <th>long</th>\n",
       "      <th>giá (triệu/m2)</th>\n",
       "    </tr>\n",
       "  </thead>\n",
       "  <tbody>\n",
       "    <tr>\n",
       "      <th>1</th>\n",
       "      <td>Bán nhà mặt phố Tây Sơn - 6 tầng. Kinh doanh t...</td>\n",
       "      <td>Đường Tây Sơn, Phường Trung Liệt, Đống Đa, Hà...</td>\n",
       "      <td>35.0</td>\n",
       "      <td>12500.0</td>\n",
       "      <td>2021-02-19</td>\n",
       "      <td>Sổ đỏ</td>\n",
       "      <td>Đông-Nam</td>\n",
       "      <td>Đông-Nam</td>\n",
       "      <td>4.0</td>\n",
       "      <td>4.0</td>\n",
       "      <td>6.0</td>\n",
       "      <td>Bán nhà mặt phố\\n</td>\n",
       "      <td>Phố Trung Liệt</td>\n",
       "      <td>Phường Trung Liệt</td>\n",
       "      <td>Quận Đống Đa</td>\n",
       "      <td>Thành phố Hà Nội</td>\n",
       "      <td>21.008930</td>\n",
       "      <td>105.824105</td>\n",
       "      <td>357.142857</td>\n",
       "    </tr>\n",
       "    <tr>\n",
       "      <th>4</th>\n",
       "      <td>Bán nhà mặt phố Thái Hà 70m2, 5 tầng, 4.5m mặt...</td>\n",
       "      <td>Phố Thái Hà, Phường Trung Liệt, Đống Đa, Hà Nội</td>\n",
       "      <td>70.0</td>\n",
       "      <td>36000.0</td>\n",
       "      <td>2021-03-13</td>\n",
       "      <td>Sổ đỏ</td>\n",
       "      <td>Đông-Nam</td>\n",
       "      <td>Đông-Nam</td>\n",
       "      <td>4.0</td>\n",
       "      <td>6.0</td>\n",
       "      <td>5.0</td>\n",
       "      <td>Bán nhà mặt phố\\n</td>\n",
       "      <td>Phố Trung Liệt</td>\n",
       "      <td>Phường Trung Liệt</td>\n",
       "      <td>Quận Đống Đa</td>\n",
       "      <td>Thành phố Hà Nội</td>\n",
       "      <td>21.009239</td>\n",
       "      <td>105.824230</td>\n",
       "      <td>514.285714</td>\n",
       "    </tr>\n",
       "    <tr>\n",
       "      <th>5</th>\n",
       "      <td>Bán gấp mặt phố Chùa Bộc, Đống Đa, thang máy, ...</td>\n",
       "      <td>Phố Chùa Bộc, Phường Quang Trung, Đống Đa, Hà Nội</td>\n",
       "      <td>41.0</td>\n",
       "      <td>13500.0</td>\n",
       "      <td>2021-04-04</td>\n",
       "      <td>Sổ đỏ</td>\n",
       "      <td>Đông-Nam</td>\n",
       "      <td>Đông-Nam</td>\n",
       "      <td>5.0</td>\n",
       "      <td>3.0</td>\n",
       "      <td>6.0</td>\n",
       "      <td>Bán nhà mặt phố\\n</td>\n",
       "      <td>Phố Chùa Bộc</td>\n",
       "      <td>Phường Quang Trung</td>\n",
       "      <td>Quận Đống Đa</td>\n",
       "      <td>Thành phố Hà Nội</td>\n",
       "      <td>21.009239</td>\n",
       "      <td>105.824230</td>\n",
       "      <td>329.268293</td>\n",
       "    </tr>\n",
       "    <tr>\n",
       "      <th>6</th>\n",
       "      <td>Bán nhà mặt phố Hoàng Cầu - Mai Anh Tuấn. Đối ...</td>\n",
       "      <td>Phố Hoàng Cầu, Phường Láng Hạ, Đống Đa, Hà Nội</td>\n",
       "      <td>50.0</td>\n",
       "      <td>13000.0</td>\n",
       "      <td>2021-04-06</td>\n",
       "      <td>Sổ đỏ</td>\n",
       "      <td>Đông-Nam</td>\n",
       "      <td>Đông-Nam</td>\n",
       "      <td>5.0</td>\n",
       "      <td>4.0</td>\n",
       "      <td>5.0</td>\n",
       "      <td>Bán nhà mặt phố\\n</td>\n",
       "      <td>Phố Hoàng Cầu</td>\n",
       "      <td>Phường Láng Hạ</td>\n",
       "      <td>Quận Đống Đa</td>\n",
       "      <td>Thành phố Hà Nội</td>\n",
       "      <td>21.014612</td>\n",
       "      <td>105.819296</td>\n",
       "      <td>260.000000</td>\n",
       "    </tr>\n",
       "    <tr>\n",
       "      <th>10</th>\n",
       "      <td>Bán nhà mặt phố Nguyễn Chí Thanh trung tâm ĐĐ ...</td>\n",
       "      <td>Đường Nguyễn Chí Thanh, Phường Láng Hạ, Đống...</td>\n",
       "      <td>75.0</td>\n",
       "      <td>29000.0</td>\n",
       "      <td>2021-04-06</td>\n",
       "      <td>Sổ đỏ</td>\n",
       "      <td>Đông-Nam</td>\n",
       "      <td>Đông-Nam</td>\n",
       "      <td>4.0</td>\n",
       "      <td>4.0</td>\n",
       "      <td>5.0</td>\n",
       "      <td>Bán nhà mặt phố\\n</td>\n",
       "      <td>Đường Nguyễn Chí Thanh</td>\n",
       "      <td>Phường Láng Hạ</td>\n",
       "      <td>Quận Đống Đa</td>\n",
       "      <td>Thành phố Hà Nội</td>\n",
       "      <td>21.020312</td>\n",
       "      <td>105.808328</td>\n",
       "      <td>386.666667</td>\n",
       "    </tr>\n",
       "    <tr>\n",
       "      <th>...</th>\n",
       "      <td>...</td>\n",
       "      <td>...</td>\n",
       "      <td>...</td>\n",
       "      <td>...</td>\n",
       "      <td>...</td>\n",
       "      <td>...</td>\n",
       "      <td>...</td>\n",
       "      <td>...</td>\n",
       "      <td>...</td>\n",
       "      <td>...</td>\n",
       "      <td>...</td>\n",
       "      <td>...</td>\n",
       "      <td>...</td>\n",
       "      <td>...</td>\n",
       "      <td>...</td>\n",
       "      <td>...</td>\n",
       "      <td>...</td>\n",
       "      <td>...</td>\n",
       "      <td>...</td>\n",
       "    </tr>\n",
       "    <tr>\n",
       "      <th>993</th>\n",
       "      <td>BÁN GẤP LÔ ĐẤT KINH DOANH ĐỈNH PHỐ TÔN THẤT TÙ...</td>\n",
       "      <td>Đường Tôn Thất Tùng, Phường Phương Mai, Đống Đ...</td>\n",
       "      <td>168.0</td>\n",
       "      <td>23500.0</td>\n",
       "      <td>2021-05-09</td>\n",
       "      <td>không có thông tin</td>\n",
       "      <td>Đông-Nam</td>\n",
       "      <td>Đông-Nam</td>\n",
       "      <td>3.0</td>\n",
       "      <td>3.0</td>\n",
       "      <td>3.0</td>\n",
       "      <td>Bán nhà mặt phố\\n</td>\n",
       "      <td>Đường Tôn Thất Tùng</td>\n",
       "      <td>Phường Phương Mai</td>\n",
       "      <td>Quận Đống Đa</td>\n",
       "      <td>Thành phố Hà Nội</td>\n",
       "      <td>21.000823</td>\n",
       "      <td>105.829097</td>\n",
       "      <td>139.880952</td>\n",
       "    </tr>\n",
       "    <tr>\n",
       "      <th>995</th>\n",
       "      <td>Bán nhà mặt phố Yên Lãng, Đống Đa, 65m2, 5T, 1...</td>\n",
       "      <td>Đường Yên Lãng, Phường Láng Hạ, Đống Đa, Hà...</td>\n",
       "      <td>65.0</td>\n",
       "      <td>17500.0</td>\n",
       "      <td>2021-05-09</td>\n",
       "      <td>Sổ đỏ</td>\n",
       "      <td>Đông-Nam</td>\n",
       "      <td>Đông-Nam</td>\n",
       "      <td>4.0</td>\n",
       "      <td>6.0</td>\n",
       "      <td>5.0</td>\n",
       "      <td>Bán nhà mặt phố\\n</td>\n",
       "      <td>Đường Yên Lãng</td>\n",
       "      <td>Phường Láng Hạ</td>\n",
       "      <td>Quận Đống Đa</td>\n",
       "      <td>Thành phố Hà Nội</td>\n",
       "      <td>21.011495</td>\n",
       "      <td>105.816666</td>\n",
       "      <td>269.230769</td>\n",
       "    </tr>\n",
       "    <tr>\n",
       "      <th>996</th>\n",
       "      <td>Bán nhà 5 tầng đep MP Yên Lãng giá rẻ, DT 60m2...</td>\n",
       "      <td>Đường Yên Lãng, Phường Trung Liệt, Đống Đa, ...</td>\n",
       "      <td>60.0</td>\n",
       "      <td>17500.0</td>\n",
       "      <td>2021-01-01</td>\n",
       "      <td>không có thông tin</td>\n",
       "      <td>Đông-Nam</td>\n",
       "      <td>Đông-Nam</td>\n",
       "      <td>4.0</td>\n",
       "      <td>4.0</td>\n",
       "      <td>5.0</td>\n",
       "      <td>Bán nhà mặt phố\\n</td>\n",
       "      <td>Phố Trung Liệt</td>\n",
       "      <td>Phường Trung Liệt</td>\n",
       "      <td>Quận Đống Đa</td>\n",
       "      <td>Thành phố Hà Nội</td>\n",
       "      <td>21.011495</td>\n",
       "      <td>105.816666</td>\n",
       "      <td>291.666667</td>\n",
       "    </tr>\n",
       "    <tr>\n",
       "      <th>997</th>\n",
       "      <td>MẶT PHỐ XÃ ĐÀN - KINH DOANH ĐỈNH CAO - 6 TẦNG ...</td>\n",
       "      <td>Phố Xã Đàn, Phường Ô Chợ Dừa, Đống Đa, Hà Nội</td>\n",
       "      <td>45.0</td>\n",
       "      <td>24800.0</td>\n",
       "      <td>2021-01-01</td>\n",
       "      <td>không có thông tin</td>\n",
       "      <td>Đông-Nam</td>\n",
       "      <td>Đông-Nam</td>\n",
       "      <td>4.0</td>\n",
       "      <td>4.0</td>\n",
       "      <td>5.0</td>\n",
       "      <td>Bán nhà mặt phố\\n</td>\n",
       "      <td>Đường Ô Chợ Dừa</td>\n",
       "      <td>Phường Ô Chợ Dừa</td>\n",
       "      <td>Quận Đống Đa</td>\n",
       "      <td>Thành phố Hà Nội</td>\n",
       "      <td>21.016106</td>\n",
       "      <td>105.832157</td>\n",
       "      <td>551.111111</td>\n",
       "    </tr>\n",
       "    <tr>\n",
       "      <th>999</th>\n",
       "      <td>Bán nhà 5 tầng MP Chùa Bộc hạ giá sốc, tử 58,6...</td>\n",
       "      <td>Phố Chùa Bộc, Phường Khương Thượng, Đống Đa, ...</td>\n",
       "      <td>107.0</td>\n",
       "      <td>45000.0</td>\n",
       "      <td>2021-05-09</td>\n",
       "      <td>Sổ đỏ</td>\n",
       "      <td>Đông-Nam</td>\n",
       "      <td>Đông-Nam</td>\n",
       "      <td>4.0</td>\n",
       "      <td>4.0</td>\n",
       "      <td>5.0</td>\n",
       "      <td>Bán nhà mặt phố\\n</td>\n",
       "      <td>Phố Khương Thượng</td>\n",
       "      <td>Phường Khương Thượng</td>\n",
       "      <td>Quận Đống Đa</td>\n",
       "      <td>Thành phố Hà Nội</td>\n",
       "      <td>21.009123</td>\n",
       "      <td>105.824428</td>\n",
       "      <td>420.560748</td>\n",
       "    </tr>\n",
       "  </tbody>\n",
       "</table>\n",
       "<p>228 rows × 19 columns</p>\n",
       "</div>"
      ],
      "text/plain": [
       "                                                 title  \\\n",
       "1    Bán nhà mặt phố Tây Sơn - 6 tầng. Kinh doanh t...   \n",
       "4    Bán nhà mặt phố Thái Hà 70m2, 5 tầng, 4.5m mặt...   \n",
       "5    Bán gấp mặt phố Chùa Bộc, Đống Đa, thang máy, ...   \n",
       "6    Bán nhà mặt phố Hoàng Cầu - Mai Anh Tuấn. Đối ...   \n",
       "10   Bán nhà mặt phố Nguyễn Chí Thanh trung tâm ĐĐ ...   \n",
       "..                                                 ...   \n",
       "993  BÁN GẤP LÔ ĐẤT KINH DOANH ĐỈNH PHỐ TÔN THẤT TÙ...   \n",
       "995  Bán nhà mặt phố Yên Lãng, Đống Đa, 65m2, 5T, 1...   \n",
       "996  Bán nhà 5 tầng đep MP Yên Lãng giá rẻ, DT 60m2...   \n",
       "997  MẶT PHỐ XÃ ĐÀN - KINH DOANH ĐỈNH CAO - 6 TẦNG ...   \n",
       "999  Bán nhà 5 tầng MP Chùa Bộc hạ giá sốc, tử 58,6...   \n",
       "\n",
       "                                               address   area    price  \\\n",
       "1    Đường Tây Sơn, Phường Trung Liệt, Đống Đa, Hà...   35.0  12500.0   \n",
       "4     Phố Thái Hà, Phường Trung Liệt, Đống Đa, Hà Nội   70.0  36000.0   \n",
       "5    Phố Chùa Bộc, Phường Quang Trung, Đống Đa, Hà Nội   41.0  13500.0   \n",
       "6     Phố Hoàng Cầu, Phường Láng Hạ, Đống Đa, Hà Nội   50.0  13000.0   \n",
       "10   Đường Nguyễn Chí Thanh, Phường Láng Hạ, Đống...   75.0  29000.0   \n",
       "..                                                 ...    ...      ...   \n",
       "993  Đường Tôn Thất Tùng, Phường Phương Mai, Đống Đ...  168.0  23500.0   \n",
       "995  Đường Yên Lãng, Phường Láng Hạ, Đống Đa, Hà...   65.0  17500.0   \n",
       "996  Đường Yên Lãng, Phường Trung Liệt, Đống Đa, ...   60.0  17500.0   \n",
       "997    Phố Xã Đàn, Phường Ô Chợ Dừa, Đống Đa, Hà Nội   45.0  24800.0   \n",
       "999  Phố Chùa Bộc, Phường Khương Thượng, Đống Đa, ...  107.0  45000.0   \n",
       "\n",
       "      postDate    land_certificate house_direction balcony_direction  toilet  \\\n",
       "1   2021-02-19               Sổ đỏ        Đông-Nam          Đông-Nam     4.0   \n",
       "4   2021-03-13               Sổ đỏ        Đông-Nam          Đông-Nam     4.0   \n",
       "5   2021-04-04               Sổ đỏ        Đông-Nam          Đông-Nam     5.0   \n",
       "6   2021-04-06               Sổ đỏ        Đông-Nam          Đông-Nam     5.0   \n",
       "10  2021-04-06               Sổ đỏ        Đông-Nam          Đông-Nam     4.0   \n",
       "..         ...                 ...             ...               ...     ...   \n",
       "993 2021-05-09  không có thông tin        Đông-Nam          Đông-Nam     3.0   \n",
       "995 2021-05-09               Sổ đỏ        Đông-Nam          Đông-Nam     4.0   \n",
       "996 2021-01-01  không có thông tin        Đông-Nam          Đông-Nam     4.0   \n",
       "997 2021-01-01  không có thông tin        Đông-Nam          Đông-Nam     4.0   \n",
       "999 2021-05-09               Sổ đỏ        Đông-Nam          Đông-Nam     4.0   \n",
       "\n",
       "     bedroom  floor        type_of_land             street_name  \\\n",
       "1        4.0    6.0  Bán nhà mặt phố\\n           Phố Trung Liệt   \n",
       "4        6.0    5.0  Bán nhà mặt phố\\n           Phố Trung Liệt   \n",
       "5        3.0    6.0  Bán nhà mặt phố\\n             Phố Chùa Bộc   \n",
       "6        4.0    5.0  Bán nhà mặt phố\\n            Phố Hoàng Cầu   \n",
       "10       4.0    5.0  Bán nhà mặt phố\\n   Đường Nguyễn Chí Thanh   \n",
       "..       ...    ...                 ...                     ...   \n",
       "993      3.0    3.0  Bán nhà mặt phố\\n      Đường Tôn Thất Tùng   \n",
       "995      6.0    5.0  Bán nhà mặt phố\\n          Đường Yên Lãng   \n",
       "996      4.0    5.0  Bán nhà mặt phố\\n           Phố Trung Liệt   \n",
       "997      4.0    5.0  Bán nhà mặt phố\\n          Đường Ô Chợ Dừa   \n",
       "999      4.0    5.0  Bán nhà mặt phố\\n        Phố Khương Thượng   \n",
       "\n",
       "                ward_name district_name         city_name        lat  \\\n",
       "1       Phường Trung Liệt  Quận Đống Đa  Thành phố Hà Nội  21.008930   \n",
       "4       Phường Trung Liệt  Quận Đống Đa  Thành phố Hà Nội  21.009239   \n",
       "5      Phường Quang Trung  Quận Đống Đa  Thành phố Hà Nội  21.009239   \n",
       "6          Phường Láng Hạ  Quận Đống Đa  Thành phố Hà Nội  21.014612   \n",
       "10         Phường Láng Hạ  Quận Đống Đa  Thành phố Hà Nội  21.020312   \n",
       "..                    ...           ...               ...        ...   \n",
       "993     Phường Phương Mai  Quận Đống Đa  Thành phố Hà Nội  21.000823   \n",
       "995        Phường Láng Hạ  Quận Đống Đa  Thành phố Hà Nội  21.011495   \n",
       "996     Phường Trung Liệt  Quận Đống Đa  Thành phố Hà Nội  21.011495   \n",
       "997      Phường Ô Chợ Dừa  Quận Đống Đa  Thành phố Hà Nội  21.016106   \n",
       "999  Phường Khương Thượng  Quận Đống Đa  Thành phố Hà Nội  21.009123   \n",
       "\n",
       "           long  giá (triệu/m2)  \n",
       "1    105.824105      357.142857  \n",
       "4    105.824230      514.285714  \n",
       "5    105.824230      329.268293  \n",
       "6    105.819296      260.000000  \n",
       "10   105.808328      386.666667  \n",
       "..          ...             ...  \n",
       "993  105.829097      139.880952  \n",
       "995  105.816666      269.230769  \n",
       "996  105.816666      291.666667  \n",
       "997  105.832157      551.111111  \n",
       "999  105.824428      420.560748  \n",
       "\n",
       "[228 rows x 19 columns]"
      ]
     },
     "metadata": {},
     "output_type": "display_data"
    },
    {
     "name": "stdout",
     "output_type": "stream",
     "text": [
      "===== Pass =====\n"
     ]
    }
   ],
   "source": [
    "%%cauhoi 6\n",
    "%%tee response\n",
    "\n",
    "#Đáp án của Cường\n",
    "nhapho = data[(data['type_of_land'] == \"Bán nhà mặt phố\\n \") \n",
    "              | (data['type_of_land'] == \"Bán nhà mặt phố\")]\n",
    "nhapho.loc[:,\"giá (triệu/m2)\"] = nhapho.loc[:,'price'] / nhapho.loc[:,'area']\n",
    "nhapho.dropna(subset = ['giá (triệu/m2)'], inplace = True)\n",
    "display(nhapho)"
   ]
  },
  {
   "cell_type": "code",
   "execution_count": 72,
   "id": "98363e28-fe5e-47f5-8950-42f73352c846",
   "metadata": {
    "tags": []
   },
   "outputs": [
    {
     "name": "stdout",
     "output_type": "stream",
     "text": [
      "['Bán nhà riêng\\n ' 'Bán nhà mặt phố\\n ' 'Tập thể, cư xá' 'Bán nhà riêng'\n",
      " 'Bán nhà mặt phố' 'Chung cư' 'Bất động sản khác' 'Bất động sản khác\\n '\n",
      " 'Đất thổ cư']\n",
      "<class 'pandas.core.frame.DataFrame'>\n",
      "Int64Index: 229 entries, 1 to 999\n",
      "Data columns (total 18 columns):\n",
      " #   Column             Non-Null Count  Dtype         \n",
      "---  ------             --------------  -----         \n",
      " 0   title              229 non-null    object        \n",
      " 1   address            229 non-null    object        \n",
      " 2   area               228 non-null    float64       \n",
      " 3   price              229 non-null    float64       \n",
      " 4   postDate           229 non-null    datetime64[ns]\n",
      " 5   land_certificate   229 non-null    object        \n",
      " 6   house_direction    229 non-null    object        \n",
      " 7   balcony_direction  229 non-null    object        \n",
      " 8   toilet             229 non-null    float64       \n",
      " 9   bedroom            229 non-null    float64       \n",
      " 10  floor              229 non-null    float64       \n",
      " 11  type_of_land       229 non-null    object        \n",
      " 12  street_name        184 non-null    object        \n",
      " 13  ward_name          181 non-null    object        \n",
      " 14  district_name      229 non-null    object        \n",
      " 15  city_name          229 non-null    object        \n",
      " 16  lat                229 non-null    float64       \n",
      " 17  long               229 non-null    float64       \n",
      "dtypes: datetime64[ns](1), float64(7), object(10)\n",
      "memory usage: 34.0+ KB\n",
      "None\n",
      "===== Pass =====\n"
     ]
    }
   ],
   "source": [
    "%%cauhoi 6\n",
    "%%tee response\n",
    "# Code dưới dòng này\n",
    "\n",
    "print(data.loc[:,'type_of_land'].unique())\n",
    "data.loc[data.loc[:,'type_of_land']=='Bán nhà mặt phố\\n ','type_of_land'] = 'Bán nhà mặt phố'\n",
    "nhapho = data.loc[data.loc[:,'type_of_land']=='Bán nhà mặt phố',:]\n",
    "print(nhapho.info()) #Phát hiện ra có 1 giá trị null tại cột area\n",
    "nhapho = nhapho.dropna(subset=['area']) #Xóa các dòng chứa giá trị null trên cột 'area'\n",
    "nhapho.loc[:,'giá (triệu/m2)'] = nhapho.loc[:,'price']/nhapho.loc[:,'area']"
   ]
  },
  {
   "cell_type": "markdown",
   "id": "df83ee5d-cac6-4ef5-847b-a4939356a1e0",
   "metadata": {
    "tags": []
   },
   "source": [
    "## Câu 7:"
   ]
  },
  {
   "cell_type": "markdown",
   "id": "3e920c48-a7e8-4486-aaa2-9c0fa5d2f417",
   "metadata": {},
   "source": [
    "**Đối với bộ dữ liệu nhà mặt phố, phát hiện giá trị ngoại lai của các thuộc tính: diện tích, giá, giá/m2 bằng phương pháp Z-score  \n",
    "Thực hiện loại bỏ các dòng dữ liệu ngoại lai  \n",
    "Có bao nhiêu giá trị bị bỏ đi**"
   ]
  },
  {
   "cell_type": "markdown",
   "id": "81b13a38-f6b4-4975-91da-25381b881d20",
   "metadata": {},
   "source": [
    "**Expected answers:**"
   ]
  },
  {
   "cell_type": "markdown",
   "id": "4f2c7544-6c5f-4f5e-9de1-ae3c5b679196",
   "metadata": {
    "tags": []
   },
   "source": [
    "Gợi ý:\n",
    "Có thể dùng sklearn.preprocessing.StandardScaler().fit_transform(df) hoặc tính thủ công  \n",
    "Chỉ cần tìm giá trị ngoại lai trên các cột 'area', 'price', 'giá (triệu/m2)'.  \n",
    "Loại bỏ các giá trị ngoại lai với threshold = 3  \n",
    "Lưu dữ liệu mới (bao gồm tất cả các cột) vào bảng \"nhapho7\"  \n",
    "Output: \"Số giá trị bị bỏ đi là xxx\""
   ]
  },
  {
   "cell_type": "code",
   "execution_count": 73,
   "id": "e8a48202-4d0f-42aa-8fd5-306b2aa225bf",
   "metadata": {
    "tags": []
   },
   "outputs": [
    {
     "name": "stdout",
     "output_type": "stream",
     "text": [
      "Số giá trị bị bỏ đi là 5\n",
      "===== Pass =====\n"
     ]
    }
   ],
   "source": [
    "%%cauhoi 7\n",
    "%%tee response\n",
    "\n",
    "#Vũ Tiến Thành\n",
    "from scipy import stats\n",
    "z0 = np.abs(stats.zscore(nhapho[['area', 'price', 'giá (triệu/m2)']]))\n",
    "threshold=3\n",
    "nhapho7=nhapho[(z0<3).all(axis=1)]\n",
    "print(f'Số giá trị bị bỏ đi là {nhapho.shape[0]-nhapho7.shape[0]}')"
   ]
  },
  {
   "cell_type": "code",
   "execution_count": 74,
   "id": "2a66230e-bf81-4972-ade3-0fb2252e2539",
   "metadata": {
    "tags": []
   },
   "outputs": [
    {
     "name": "stdout",
     "output_type": "stream",
     "text": [
      "Số giá trị bị bỏ đi là 5\n",
      "===== Pass =====\n"
     ]
    }
   ],
   "source": [
    "%%cauhoi 7\n",
    "%%tee response\n",
    "# Code dưới dòng này\n",
    "\n",
    "cols = ['area','price','giá (triệu/m2)']\n",
    "ss = pp.StandardScaler()\n",
    "fitted = pd.DataFrame(ss.fit_transform(nhapho.loc[:, cols]), columns=cols, index=nhapho.index)\n",
    "nhapho7 = nhapho[(np.abs(fitted)<3).all(axis=1)]\n",
    "print(\"Số giá trị bị bỏ đi là\", nhapho.shape[0] - nhapho7.shape[0])"
   ]
  },
  {
   "cell_type": "markdown",
   "id": "e2c6cdab-37de-45ea-b172-d95c5556242b",
   "metadata": {
    "tags": []
   },
   "source": [
    "## Câu 8:"
   ]
  },
  {
   "cell_type": "markdown",
   "id": "2cc58128-c6cf-48f6-a24d-480c33190f13",
   "metadata": {},
   "source": [
    "**Đối với bộ dữ liệu nhà mặt phố, phát hiện giá trị ngoại lai của các thuộc tính: diện tích, giá,  giá/m2 bằng phương pháp IQR  \n",
    "Thực hiện loại bỏ các dòng dữ liệu ngoại lai  \n",
    "Có bao nhiêu giá trị bị bỏ đi**"
   ]
  },
  {
   "cell_type": "markdown",
   "id": "24b39a47-d4b7-43b0-bd71-47af05197b1f",
   "metadata": {},
   "source": [
    "**Expected answers:**"
   ]
  },
  {
   "cell_type": "markdown",
   "id": "9759f78d-ca93-4a89-8c6e-a92925f416c1",
   "metadata": {
    "tags": []
   },
   "source": [
    "Gợi ý:\n",
    "Chỉ cần tìm giá trị ngoại lai trên các cột 'area', 'price', 'giá (triệu/m2)'.  \n",
    "Các giá trị ngoại lai nhapho < (Q1 - 1.5 * IQR)) | (nhapho > (Q3 + 1.5 * IQR))  \n",
    "Lưu dữ liệu mới vào bảng \"nhapho8\"  \n",
    "Output: \"Số giá trị bị bỏ đi là xxx\""
   ]
  },
  {
   "cell_type": "code",
   "execution_count": 75,
   "id": "e3a9f75b-a746-47ae-9b89-66ff69ed5814",
   "metadata": {
    "tags": []
   },
   "outputs": [
    {
     "name": "stdout",
     "output_type": "stream",
     "text": [
      "Số giá trị bị bỏ đi là 32\n",
      "===== Pass =====\n"
     ]
    }
   ],
   "source": [
    "%%cauhoi 8\n",
    "%%tee response\n",
    "\n",
    "#Cường Đỗ\n",
    "nhapho7 = nhapho.loc[:,['area', 'price', 'giá (triệu/m2)']]\n",
    "Q1 = nhapho7.quantile(0.25)\n",
    "Q3 = nhapho7.quantile(0.75)\n",
    "# print(Q1,Q3)\n",
    "# tính IQR \n",
    "IQR = Q3-Q1\n",
    "# print(IQR)\n",
    "# lọc dữ liệu ngoại lai\n",
    "# display(nhapho7)\n",
    "nhapho8 = nhapho[~((nhapho7 < (Q1 - 1.5 * IQR)) | (nhapho7 > (Q3 + 1.5 * IQR))).any(axis=1)]\n",
    "# print(nhapho8)\n",
    "# nhapho8 = nhapho[(nhapho < (Q1 - 1.5 * IQR)) | (nhapho > (Q3 + 1.5 * IQR))]\n",
    "# display(nhapho8)\n",
    "print(\"Số giá trị bị bỏ đi là\",nhapho.shape[0]-nhapho8.shape[0])\n"
   ]
  },
  {
   "cell_type": "code",
   "execution_count": 76,
   "id": "1976a49b-efbf-4d0f-8d7f-de6561f69e74",
   "metadata": {
    "tags": []
   },
   "outputs": [
    {
     "name": "stdout",
     "output_type": "stream",
     "text": [
      "Số giá trị bị bỏ đi là 32\n",
      "===== Pass =====\n"
     ]
    }
   ],
   "source": [
    "%%cauhoi 8\n",
    "%%tee response\n",
    "# Code dưới dòng này\n",
    "\n",
    "cols = ['area','price','giá (triệu/m2)']\n",
    "Q1 = nhapho.loc[:,cols].quantile(0.25)\n",
    "Q3 = nhapho.loc[:,cols].quantile(0.75)\n",
    "IQR = Q3-Q1\n",
    "nhapho8 = nhapho[~((nhapho.loc[:,cols] < (Q1 - 1.5 * IQR)) | (nhapho.loc[:,cols] > (Q3 + 1.5 * IQR))).any(axis=1)]\n",
    "print(\"Số giá trị bị bỏ đi là\", nhapho.shape[0] - nhapho8.shape[0])"
   ]
  },
  {
   "cell_type": "markdown",
   "id": "0f0a04c1-e4aa-456b-bf42-156e0d86f7a9",
   "metadata": {
    "tags": []
   },
   "source": [
    "## Câu 9:"
   ]
  },
  {
   "cell_type": "markdown",
   "id": "47b78046-0f5d-4ae8-9024-c33e566e5111",
   "metadata": {},
   "source": [
    "**Chuẩn hóa dữ liệu của thuộc tính giá/m2 bằng các phương pháp:  \n",
    "z-score scaling,  \n",
    "min-max scaling,  \n",
    "Robust scaling**  \n",
    "**Lưu các giá trị mode, mean và median của thuộc tính theo các phương pháp ra 1 bảng**  \n",
    "**Vẽ đồ thị và so sánh phân bố của thuộc tính giá/m2 trước và sau khi chuẩn hóa**"
   ]
  },
  {
   "cell_type": "markdown",
   "id": "c187010b-292d-454f-89f8-61b60b3d5520",
   "metadata": {},
   "source": [
    "**Expected answers:**"
   ]
  },
  {
   "cell_type": "markdown",
   "id": "e495a3ca-8e16-452d-96ae-eac14bc106ba",
   "metadata": {
    "tags": []
   },
   "source": [
    "Gợi ý:\n",
    "Chỉ cần chuẩn hóa trên cột 'giá (triệu/m2)'.  \n",
    "Nên sử dụng các class StandardScaler(), MinMaxScaler(), RobustScaler() của module sklearn.preprocessing  \n",
    "Lưu các giá trị mode, mean và median vào bảng \"nhapho9\"; tên cột là 'Z-score', 'MinMax', 'Robust'; index là 'mode', 'mean', 'median'. (chấm điểm) \n",
    "Vẽ đồ thị histogram() của thuộc tính giá/m2. So sánh với bảng nhapho9"
   ]
  },
  {
   "cell_type": "code",
   "execution_count": 77,
   "id": "c7c67221-f54c-4c06-8866-8ee9eee4275e",
   "metadata": {
    "tags": []
   },
   "outputs": [
    {
     "data": {
      "text/html": [
       "<div>\n",
       "<style scoped>\n",
       "    .dataframe tbody tr th:only-of-type {\n",
       "        vertical-align: middle;\n",
       "    }\n",
       "\n",
       "    .dataframe tbody tr th {\n",
       "        vertical-align: top;\n",
       "    }\n",
       "\n",
       "    .dataframe thead th {\n",
       "        text-align: right;\n",
       "    }\n",
       "</style>\n",
       "<table border=\"1\" class=\"dataframe\">\n",
       "  <thead>\n",
       "    <tr style=\"text-align: right;\">\n",
       "      <th></th>\n",
       "      <th>Z-score</th>\n",
       "      <th>MinMax</th>\n",
       "      <th>Robust</th>\n",
       "    </tr>\n",
       "  </thead>\n",
       "  <tbody>\n",
       "    <tr>\n",
       "      <th>mode</th>\n",
       "      <td>-5.814029e-02</td>\n",
       "      <td>0.039586</td>\n",
       "      <td>0.175644</td>\n",
       "    </tr>\n",
       "    <tr>\n",
       "      <th>mean</th>\n",
       "      <td>1.728637e-16</td>\n",
       "      <td>0.043694</td>\n",
       "      <td>0.364414</td>\n",
       "    </tr>\n",
       "    <tr>\n",
       "      <th>median</th>\n",
       "      <td>-1.122381e-01</td>\n",
       "      <td>0.035764</td>\n",
       "      <td>0.000000</td>\n",
       "    </tr>\n",
       "  </tbody>\n",
       "</table>\n",
       "</div>"
      ],
      "text/plain": [
       "             Z-score    MinMax    Robust\n",
       "mode   -5.814029e-02  0.039586  0.175644\n",
       "mean    1.728637e-16  0.043694  0.364414\n",
       "median -1.122381e-01  0.035764  0.000000"
      ]
     },
     "metadata": {},
     "output_type": "display_data"
    },
    {
     "data": {
      "image/png": "[encoded data removed]",
      "text/plain": [
       "<Figure size 432x288 with 4 Axes>"
      ]
     },
     "metadata": {
      "needs_background": "light"
     },
     "output_type": "display_data"
    },
    {
     "name": "stdout",
     "output_type": "stream",
     "text": [
      "===== Pass =====\n"
     ]
    }
   ],
   "source": [
    "%%cauhoi 9\n",
    "%%tee response\n",
    "# Code dưới dòng này\n",
    "\n",
    "cols = ['giá (triệu/m2)']\n",
    "\n",
    "ss = pp.StandardScaler()\n",
    "mms = pp.MinMaxScaler()\n",
    "rs = pp.RobustScaler()\n",
    "\n",
    "#Chuẩn hóa\n",
    "ss_fitted = pd.DataFrame(ss.fit_transform(nhapho.loc[:, cols]), columns=cols, index=nhapho.index)\n",
    "mms_fitted = pd.DataFrame(mms.fit_transform(nhapho.loc[:, cols]), columns=cols, index=nhapho.index)\n",
    "rs_fitted = pd.DataFrame(rs.fit_transform(nhapho.loc[:, cols]), columns=cols, index=nhapho.index)\n",
    "\n",
    "#Xuất giá trị\n",
    "phuongphap = ['Z-score', 'MinMax', 'Robust']\n",
    "chuanhoa = [ss_fitted, mms_fitted, rs_fitted]\n",
    "nhapho9 = pd.DataFrame()\n",
    "for i in range(0,3):\n",
    "    nhapho9.loc['mode',phuongphap[i]]= chuanhoa[i].mode().max().item()\n",
    "    nhapho9.loc['mean',phuongphap[i]]= chuanhoa[i].mean().item()\n",
    "    nhapho9.loc['median',phuongphap[i]]= chuanhoa[i].median().item()\n",
    "display(nhapho9)\n",
    "\n",
    "# Vẽ đồ thị\n",
    "fig, axs = plt.subplots(2, 2)\n",
    "axs[0,0].hist(nhapho.loc[:, cols])\n",
    "axs[0,0].set_title('original')\n",
    "axs[0,1].hist(ss_fitted)\n",
    "axs[0,1].set_title('ss')\n",
    "axs[1,0].hist(mms_fitted)\n",
    "axs[1,0].set_title('mms')\n",
    "axs[1,1].hist(rs_fitted)\n",
    "axs[1,1].set_title('rs')\n",
    "fig.tight_layout()"
   ]
  },
  {
   "cell_type": "markdown",
   "id": "c3891db3-ceea-4321-b7cf-213ea8fb21f8",
   "metadata": {
    "tags": []
   },
   "source": [
    "## Câu 10:"
   ]
  },
  {
   "cell_type": "markdown",
   "id": "9ba80fcb-6cdd-471f-9647-2845a1e11a51",
   "metadata": {},
   "source": [
    "**Tương tự câu 9, nhưng vừa chuẩn hóa vừa xóa dữ liệu ngoại lai theo từng phương pháp**"
   ]
  },
  {
   "cell_type": "markdown",
   "id": "0d894924-379c-46c0-9fcc-df1fa2dc7803",
   "metadata": {},
   "source": [
    "**Hint & Expected answers:**"
   ]
  },
  {
   "cell_type": "markdown",
   "id": "e2b0edeb-2e3b-4bf5-9796-bc85c2d2a1ea",
   "metadata": {
    "tags": []
   },
   "source": [
    "Gợi ý:\n",
    "Chỉ cần chuẩn hóa trên cột 'giá (triệu/m2)'.  \n",
    "Nên sử dụng các class StandardScaler(), MinMaxScaler(), RobustScaler() của module sklearn.preprocessing  \n",
    "Chuẩn hóa xong thì xóa dữ liệu ngoại lai: StandardScaler < 3, MinMaxScaler < 0.25, RobustScaler vẫn sử dụng thừa số 1.5 như lý thuyết  \n",
    "Lưu các giá trị mode, mean và median vào bảng \"nhapho10\"; tên cột là 'Z-score', 'MinMax', 'Robust'; index là 'mode', 'mean', 'median'. (chấm điểm) \n",
    "Vẽ đồ thị histogram() của thuộc tính giá/m2. So sánh với bảng nhapho10 và câu 9"
   ]
  },
  {
   "cell_type": "code",
   "execution_count": 78,
   "id": "8e5a931c-cf88-42dc-8cf9-56580786f276",
   "metadata": {
    "tags": []
   },
   "outputs": [
    {
     "data": {
      "text/html": [
       "<div>\n",
       "<style scoped>\n",
       "    .dataframe tbody tr th:only-of-type {\n",
       "        vertical-align: middle;\n",
       "    }\n",
       "\n",
       "    .dataframe tbody tr th {\n",
       "        vertical-align: top;\n",
       "    }\n",
       "\n",
       "    .dataframe thead th {\n",
       "        text-align: right;\n",
       "    }\n",
       "</style>\n",
       "<table border=\"1\" class=\"dataframe\">\n",
       "  <thead>\n",
       "    <tr style=\"text-align: right;\">\n",
       "      <th></th>\n",
       "      <th>Z-score</th>\n",
       "      <th>MinMax</th>\n",
       "      <th>Robust</th>\n",
       "    </tr>\n",
       "  </thead>\n",
       "  <tbody>\n",
       "    <tr>\n",
       "      <th>mode</th>\n",
       "      <td>-0.058140</td>\n",
       "      <td>0.039586</td>\n",
       "      <td>0.175644</td>\n",
       "    </tr>\n",
       "    <tr>\n",
       "      <th>mean</th>\n",
       "      <td>-0.094061</td>\n",
       "      <td>0.036758</td>\n",
       "      <td>0.026918</td>\n",
       "    </tr>\n",
       "    <tr>\n",
       "      <th>median</th>\n",
       "      <td>-0.117797</td>\n",
       "      <td>0.035236</td>\n",
       "      <td>-0.026551</td>\n",
       "    </tr>\n",
       "  </tbody>\n",
       "</table>\n",
       "</div>"
      ],
      "text/plain": [
       "         Z-score    MinMax    Robust\n",
       "mode   -0.058140  0.039586  0.175644\n",
       "mean   -0.094061  0.036758  0.026918\n",
       "median -0.117797  0.035236 -0.026551"
      ]
     },
     "metadata": {},
     "output_type": "display_data"
    },
    {
     "data": {
      "image/png": "[encoded data removed]",
      "text/plain": [
       "<Figure size 432x288 with 4 Axes>"
      ]
     },
     "metadata": {
      "needs_background": "light"
     },
     "output_type": "display_data"
    },
    {
     "name": "stdout",
     "output_type": "stream",
     "text": [
      "===== Pass =====\n"
     ]
    }
   ],
   "source": [
    "%%cauhoi 10\n",
    "%%tee response\n",
    "# Code dưới dòng này\n",
    "\n",
    "cols = ['giá (triệu/m2)']\n",
    "ss = pp.StandardScaler()\n",
    "mms = pp.MinMaxScaler()\n",
    "rs = pp.RobustScaler()\n",
    "\n",
    "#Chuẩn hóa và xóa dữ liệu ngoại lai\n",
    "ss_fitted = pd.DataFrame(ss.fit_transform(nhapho.loc[:, cols]), columns=cols, index=nhapho.index)\n",
    "ss_fitted = ss_fitted[(np.abs(ss_fitted)<1).all(axis=1)]\n",
    "\n",
    "mms_fitted = pd.DataFrame(mms.fit_transform(nhapho.loc[:, cols]), columns=cols, index=nhapho.index)\n",
    "mms_fitted = mms_fitted[(np.abs(mms_fitted)<0.1).all(axis=1)]\n",
    "\n",
    "rs_fitted = pd.DataFrame(rs.fit_transform(nhapho.loc[:, cols]), columns=cols, index=nhapho.index)\n",
    "Q1 = rs_fitted.quantile(0.25)\n",
    "Q3 = rs_fitted.quantile(0.75)\n",
    "IQR = Q3-Q1\n",
    "rs_fitted = rs_fitted[~((rs_fitted < (Q1 - 1.5 * IQR)) | (rs_fitted > (Q3 + 1.5 * IQR))).any(axis=1)]\n",
    "\n",
    "#Xuất giá trị\n",
    "phuongphap = ['Z-score', 'MinMax', 'Robust']\n",
    "chuanhoa = [ss_fitted, mms_fitted, rs_fitted]\n",
    "nhapho10 = pd.DataFrame()\n",
    "for i in range(0,3):\n",
    "    nhapho10.loc['mode',phuongphap[i]]= chuanhoa[i].mode().max().item()\n",
    "    nhapho10.loc['mean',phuongphap[i]]= chuanhoa[i].mean().item()\n",
    "    nhapho10.loc['median',phuongphap[i]]= chuanhoa[i].median().item()\n",
    "display(nhapho10)\n",
    "\n",
    "#Vẽ đồ thị\n",
    "fig, axs = plt.subplots(2, 2)\n",
    "axs[0,0].hist(nhapho.loc[:, cols], bins=10)\n",
    "axs[0,0].set_title('original')\n",
    "axs[0,1].hist(ss_fitted, bins=10)\n",
    "axs[0,1].set_title('ss')\n",
    "axs[1,0].hist(mms_fitted, bins=10)\n",
    "axs[1,0].set_title('mms')\n",
    "axs[1,1].hist(rs_fitted, bins=10)\n",
    "axs[1,1].set_title('rs')\n",
    "fig.tight_layout()"
   ]
  },
  {
   "cell_type": "code",
   "execution_count": 79,
   "id": "49a7568f-019d-4575-9dba-13bdf3f0078f",
   "metadata": {
    "tags": []
   },
   "outputs": [
    {
     "data": {
      "text/html": [
       "<div>\n",
       "<style scoped>\n",
       "    .dataframe tbody tr th:only-of-type {\n",
       "        vertical-align: middle;\n",
       "    }\n",
       "\n",
       "    .dataframe tbody tr th {\n",
       "        vertical-align: top;\n",
       "    }\n",
       "\n",
       "    .dataframe thead th {\n",
       "        text-align: right;\n",
       "    }\n",
       "</style>\n",
       "<table border=\"1\" class=\"dataframe\">\n",
       "  <thead>\n",
       "    <tr style=\"text-align: right;\">\n",
       "      <th></th>\n",
       "      <th>Z-score</th>\n",
       "      <th>MinMax</th>\n",
       "      <th>Robust</th>\n",
       "    </tr>\n",
       "  </thead>\n",
       "  <tbody>\n",
       "    <tr>\n",
       "      <th>mode</th>\n",
       "      <td>-5.814029e-02</td>\n",
       "      <td>0.039586</td>\n",
       "      <td>0.175644</td>\n",
       "    </tr>\n",
       "    <tr>\n",
       "      <th>mean</th>\n",
       "      <td>1.728637e-16</td>\n",
       "      <td>0.043694</td>\n",
       "      <td>0.364414</td>\n",
       "    </tr>\n",
       "    <tr>\n",
       "      <th>median</th>\n",
       "      <td>-1.122381e-01</td>\n",
       "      <td>0.035764</td>\n",
       "      <td>0.000000</td>\n",
       "    </tr>\n",
       "  </tbody>\n",
       "</table>\n",
       "</div>"
      ],
      "text/plain": [
       "             Z-score    MinMax    Robust\n",
       "mode   -5.814029e-02  0.039586  0.175644\n",
       "mean    1.728637e-16  0.043694  0.364414\n",
       "median -1.122381e-01  0.035764  0.000000"
      ]
     },
     "metadata": {},
     "output_type": "display_data"
    },
    {
     "data": {
      "text/html": [
       "<div>\n",
       "<style scoped>\n",
       "    .dataframe tbody tr th:only-of-type {\n",
       "        vertical-align: middle;\n",
       "    }\n",
       "\n",
       "    .dataframe tbody tr th {\n",
       "        vertical-align: top;\n",
       "    }\n",
       "\n",
       "    .dataframe thead th {\n",
       "        text-align: right;\n",
       "    }\n",
       "</style>\n",
       "<table border=\"1\" class=\"dataframe\">\n",
       "  <thead>\n",
       "    <tr style=\"text-align: right;\">\n",
       "      <th></th>\n",
       "      <th>Z-score</th>\n",
       "      <th>MinMax</th>\n",
       "      <th>Robust</th>\n",
       "    </tr>\n",
       "  </thead>\n",
       "  <tbody>\n",
       "    <tr>\n",
       "      <th>mode</th>\n",
       "      <td>-0.058140</td>\n",
       "      <td>0.039586</td>\n",
       "      <td>0.175644</td>\n",
       "    </tr>\n",
       "    <tr>\n",
       "      <th>mean</th>\n",
       "      <td>-0.094061</td>\n",
       "      <td>0.036758</td>\n",
       "      <td>0.026918</td>\n",
       "    </tr>\n",
       "    <tr>\n",
       "      <th>median</th>\n",
       "      <td>-0.117797</td>\n",
       "      <td>0.035236</td>\n",
       "      <td>-0.026551</td>\n",
       "    </tr>\n",
       "  </tbody>\n",
       "</table>\n",
       "</div>"
      ],
      "text/plain": [
       "         Z-score    MinMax    Robust\n",
       "mode   -0.058140  0.039586  0.175644\n",
       "mean   -0.094061  0.036758  0.026918\n",
       "median -0.117797  0.035236 -0.026551"
      ]
     },
     "metadata": {},
     "output_type": "display_data"
    }
   ],
   "source": [
    "display(nhapho9)\n",
    "display(nhapho10)"
   ]
  },
  {
   "cell_type": "markdown",
   "id": "f29d8fdc-2626-4046-871b-48cd31477bd4",
   "metadata": {},
   "source": [
    "# Tính điểm"
   ]
  },
  {
   "cell_type": "code",
   "execution_count": 80,
   "id": "524ea859-941a-4dd3-bb07-fc4d1dafa2e7",
   "metadata": {
    "tags": []
   },
   "outputs": [
    {
     "name": "stdout",
     "output_type": "stream",
     "text": [
      "Diem so la: 10/10\n"
     ]
    },
    {
     "data": {
      "text/html": [
       "<script>alert('Diem so la: 10/10');</script>"
      ],
      "text/plain": [
       "<IPython.core.display.HTML object>"
      ]
     },
     "metadata": {},
     "output_type": "display_data"
    }
   ],
   "source": [
    "final_score(score)"
   ]
  }
 ],
 "metadata": {
  "kernelspec": {
   "display_name": "Python 3 (ipykernel)",
   "language": "python",
   "name": "python3"
  },
  "language_info": {
   "codemirror_mode": {
    "name": "ipython",
    "version": 3
   },
   "file_extension": ".py",
   "mimetype": "text/x-python",
   "name": "python",
   "nbconvert_exporter": "python",
   "pygments_lexer": "ipython3",
   "version": "3.9.12"
  }
 },
 "nbformat": 4,
 "nbformat_minor": 5
}
