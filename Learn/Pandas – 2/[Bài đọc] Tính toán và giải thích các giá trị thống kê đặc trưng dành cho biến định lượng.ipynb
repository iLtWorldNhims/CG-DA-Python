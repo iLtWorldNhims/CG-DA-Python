{
 "cells": [
  {
   "cell_type": "markdown",
   "id": "942478d4-4f19-4332-93f1-70c1284b002a",
   "metadata": {},
   "source": [
    "# Đọc bộ dữ liệu:"
   ]
  },
  {
   "cell_type": "code",
   "execution_count": 2,
   "id": "5e9c7b01-b211-45c8-9a0c-455c4148b7ac",
   "metadata": {},
   "outputs": [],
   "source": [
    "import pandas as pd\n",
    "df = pd.read_csv(r\"C:\\Users\\MY PC\\Documents\\GitHub\\CG-DA-Python\\Datasets\\FoodPrice_in_Turkey.csv\")"
   ]
  },
  {
   "cell_type": "code",
   "execution_count": 3,
   "id": "895fdb99-986f-49a4-8c36-fb73b2e569d7",
   "metadata": {},
   "outputs": [
    {
     "data": {
      "text/html": [
       "<div>\n",
       "<style scoped>\n",
       "    .dataframe tbody tr th:only-of-type {\n",
       "        vertical-align: middle;\n",
       "    }\n",
       "\n",
       "    .dataframe tbody tr th {\n",
       "        vertical-align: top;\n",
       "    }\n",
       "\n",
       "    .dataframe thead th {\n",
       "        text-align: right;\n",
       "    }\n",
       "</style>\n",
       "<table border=\"1\" class=\"dataframe\">\n",
       "  <thead>\n",
       "    <tr style=\"text-align: right;\">\n",
       "      <th></th>\n",
       "      <th>Place</th>\n",
       "      <th>ProductId</th>\n",
       "      <th>ProductName</th>\n",
       "      <th>UmId</th>\n",
       "      <th>UmName</th>\n",
       "      <th>Month</th>\n",
       "      <th>Year</th>\n",
       "      <th>Price</th>\n",
       "    </tr>\n",
       "  </thead>\n",
       "  <tbody>\n",
       "    <tr>\n",
       "      <th>0</th>\n",
       "      <td>National Average</td>\n",
       "      <td>52</td>\n",
       "      <td>Rice - Retail</td>\n",
       "      <td>5</td>\n",
       "      <td>KG</td>\n",
       "      <td>5</td>\n",
       "      <td>2013</td>\n",
       "      <td>4.4920</td>\n",
       "    </tr>\n",
       "    <tr>\n",
       "      <th>1</th>\n",
       "      <td>National Average</td>\n",
       "      <td>52</td>\n",
       "      <td>Rice - Retail</td>\n",
       "      <td>5</td>\n",
       "      <td>KG</td>\n",
       "      <td>6</td>\n",
       "      <td>2013</td>\n",
       "      <td>4.5786</td>\n",
       "    </tr>\n",
       "    <tr>\n",
       "      <th>2</th>\n",
       "      <td>National Average</td>\n",
       "      <td>52</td>\n",
       "      <td>Rice - Retail</td>\n",
       "      <td>5</td>\n",
       "      <td>KG</td>\n",
       "      <td>11</td>\n",
       "      <td>2013</td>\n",
       "      <td>4.7865</td>\n",
       "    </tr>\n",
       "    <tr>\n",
       "      <th>3</th>\n",
       "      <td>National Average</td>\n",
       "      <td>52</td>\n",
       "      <td>Rice - Retail</td>\n",
       "      <td>5</td>\n",
       "      <td>KG</td>\n",
       "      <td>12</td>\n",
       "      <td>2013</td>\n",
       "      <td>5.1337</td>\n",
       "    </tr>\n",
       "    <tr>\n",
       "      <th>4</th>\n",
       "      <td>National Average</td>\n",
       "      <td>52</td>\n",
       "      <td>Rice - Retail</td>\n",
       "      <td>5</td>\n",
       "      <td>KG</td>\n",
       "      <td>1</td>\n",
       "      <td>2014</td>\n",
       "      <td>5.5099</td>\n",
       "    </tr>\n",
       "  </tbody>\n",
       "</table>\n",
       "</div>"
      ],
      "text/plain": [
       "              Place  ProductId    ProductName  UmId UmName  Month  Year  \\\n",
       "0  National Average         52  Rice - Retail     5     KG      5  2013   \n",
       "1  National Average         52  Rice - Retail     5     KG      6  2013   \n",
       "2  National Average         52  Rice - Retail     5     KG     11  2013   \n",
       "3  National Average         52  Rice - Retail     5     KG     12  2013   \n",
       "4  National Average         52  Rice - Retail     5     KG      1  2014   \n",
       "\n",
       "    Price  \n",
       "0  4.4920  \n",
       "1  4.5786  \n",
       "2  4.7865  \n",
       "3  5.1337  \n",
       "4  5.5099  "
      ]
     },
     "execution_count": 3,
     "metadata": {},
     "output_type": "execute_result"
    }
   ],
   "source": [
    "df.head()"
   ]
  },
  {
   "cell_type": "code",
   "execution_count": 4,
   "id": "986f5b62-e1b1-4e6a-9c6c-6dcb5bffeec2",
   "metadata": {},
   "outputs": [
    {
     "name": "stdout",
     "output_type": "stream",
     "text": [
      "<class 'pandas.core.frame.DataFrame'>\n",
      "RangeIndex: 7381 entries, 0 to 7380\n",
      "Data columns (total 8 columns):\n",
      " #   Column       Non-Null Count  Dtype  \n",
      "---  ------       --------------  -----  \n",
      " 0   Place        7381 non-null   object \n",
      " 1   ProductId    7381 non-null   int64  \n",
      " 2   ProductName  7381 non-null   object \n",
      " 3   UmId         7381 non-null   int64  \n",
      " 4   UmName       7381 non-null   object \n",
      " 5   Month        7381 non-null   int64  \n",
      " 6   Year         7381 non-null   int64  \n",
      " 7   Price        7381 non-null   float64\n",
      "dtypes: float64(1), int64(4), object(3)\n",
      "memory usage: 461.4+ KB\n"
     ]
    }
   ],
   "source": [
    "df.info()"
   ]
  },
  {
   "cell_type": "markdown",
   "id": "9319821e-45da-48c9-bd08-ef87f9fdb678",
   "metadata": {},
   "source": [
    "# Xét biến định lượng Price:"
   ]
  },
  {
   "cell_type": "code",
   "execution_count": 5,
   "id": "96345b23-d13f-4d8d-8753-1bb9c2fdc3a7",
   "metadata": {},
   "outputs": [],
   "source": [
    "df_price = df.loc[:,'Price']"
   ]
  },
  {
   "cell_type": "markdown",
   "id": "385d4fae-8084-450d-b4cf-3a467046a24b",
   "metadata": {},
   "source": [
    "# 1. Mô tả dữ liệu"
   ]
  },
  {
   "cell_type": "markdown",
   "id": "995df77b-0bfb-4e3d-b267-571c69d89477",
   "metadata": {},
   "source": [
    "## count – Đếm tần suất xuất hiện của biến định lượng"
   ]
  },
  {
   "cell_type": "code",
   "execution_count": 6,
   "id": "8a051c5f-b2a7-4298-93e1-4ed6fbc2acb1",
   "metadata": {},
   "outputs": [
    {
     "data": {
      "text/plain": [
       "7381"
      ]
     },
     "execution_count": 6,
     "metadata": {},
     "output_type": "execute_result"
    }
   ],
   "source": [
    "df_price.count()"
   ]
  },
  {
   "cell_type": "markdown",
   "id": "07f882f5-6ec8-4c2c-8218-b12816bc6765",
   "metadata": {},
   "source": [
    "## min – Tính giá trị nhỏ nhất của biến định lượng"
   ]
  },
  {
   "cell_type": "code",
   "execution_count": 7,
   "id": "6d7e1a0b-5be2-4329-b7a5-479dc83a5a03",
   "metadata": {},
   "outputs": [
    {
     "data": {
      "text/plain": [
       "0.2539"
      ]
     },
     "execution_count": 7,
     "metadata": {},
     "output_type": "execute_result"
    }
   ],
   "source": [
    "df_price.min()"
   ]
  },
  {
   "cell_type": "markdown",
   "id": "a138b066-5247-4110-9980-ce2937ebfaee",
   "metadata": {},
   "source": [
    "## max – Tính giá trị lớn nhất của biến định lượng"
   ]
  },
  {
   "cell_type": "code",
   "execution_count": 8,
   "id": "7861537f-db71-4cf9-9df9-6fe7f3265067",
   "metadata": {},
   "outputs": [
    {
     "data": {
      "text/plain": [
       "159.4458"
      ]
     },
     "execution_count": 8,
     "metadata": {},
     "output_type": "execute_result"
    }
   ],
   "source": [
    "df_price.max()"
   ]
  },
  {
   "cell_type": "markdown",
   "id": "32f86339-0f7f-462e-98d2-9d9e2a2bc269",
   "metadata": {},
   "source": [
    "# 2. Xu hướng tập trung"
   ]
  },
  {
   "cell_type": "code",
   "execution_count": 9,
   "id": "307b4361-12f3-4f17-b5fd-5da2df3bb4fd",
   "metadata": {},
   "outputs": [
    {
     "data": {
      "text/plain": [
       "<AxesSubplot: >"
      ]
     },
     "execution_count": 9,
     "metadata": {},
     "output_type": "execute_result"
    },
    {
     "data": {
      "image/png": "[encoded data removed]",
      "text/plain": [
       "<Figure size 640x480 with 1 Axes>"
      ]
     },
     "metadata": {},
     "output_type": "display_data"
    }
   ],
   "source": [
    "df_price.hist()"
   ]
  },
  {
   "cell_type": "markdown",
   "id": "fdb27e5e-4e73-4b48-be55-f9276bec1d1d",
   "metadata": {},
   "source": [
    "## mode – Tính giá trị xuất hiện nhiều nhất của biến định lượng"
   ]
  },
  {
   "cell_type": "code",
   "execution_count": 10,
   "id": "e33d8214-0645-4176-986e-8db6d1a6b808",
   "metadata": {},
   "outputs": [
    {
     "data": {
      "text/plain": [
       "0    0.4118\n",
       "Name: Price, dtype: float64"
      ]
     },
     "execution_count": 10,
     "metadata": {},
     "output_type": "execute_result"
    }
   ],
   "source": [
    "df_price.mode()"
   ]
  },
  {
   "cell_type": "markdown",
   "id": "bb46f7a2-c932-4a04-ae88-c20722d8753c",
   "metadata": {},
   "source": [
    "## median – Tính giá trị trung vị của biến định lượng"
   ]
  },
  {
   "cell_type": "code",
   "execution_count": 11,
   "id": "3ed110d1-db94-4ddc-ac1a-f8beb1a216fd",
   "metadata": {},
   "outputs": [
    {
     "data": {
      "text/plain": [
       "5.9096"
      ]
     },
     "execution_count": 11,
     "metadata": {},
     "output_type": "execute_result"
    }
   ],
   "source": [
    "df_price.median()"
   ]
  },
  {
   "cell_type": "markdown",
   "id": "e90e0be2-9622-4acd-82ba-9c2f2c84fcf9",
   "metadata": {},
   "source": [
    "## mean – Tính giá trị trung bình của biến định lượng"
   ]
  },
  {
   "cell_type": "code",
   "execution_count": 12,
   "id": "bbdfb2f1-2fad-4c2b-a5c1-abf4f88c981f",
   "metadata": {},
   "outputs": [
    {
     "data": {
      "text/plain": [
       "15.738708576073702"
      ]
     },
     "execution_count": 12,
     "metadata": {},
     "output_type": "execute_result"
    }
   ],
   "source": [
    "df_price.mean()"
   ]
  },
  {
   "cell_type": "markdown",
   "id": "cb23d5a7-fb7c-4b7d-b5eb-2126fc607330",
   "metadata": {},
   "source": [
    "# 3. Tính các giá trị thống kê của tất cả các biến định lượng trong DataFrame"
   ]
  },
  {
   "cell_type": "code",
   "execution_count": 13,
   "id": "362f4421-00f3-4c70-a8fa-b164527aadfc",
   "metadata": {},
   "outputs": [
    {
     "data": {
      "text/html": [
       "<div>\n",
       "<style scoped>\n",
       "    .dataframe tbody tr th:only-of-type {\n",
       "        vertical-align: middle;\n",
       "    }\n",
       "\n",
       "    .dataframe tbody tr th {\n",
       "        vertical-align: top;\n",
       "    }\n",
       "\n",
       "    .dataframe thead th {\n",
       "        text-align: right;\n",
       "    }\n",
       "</style>\n",
       "<table border=\"1\" class=\"dataframe\">\n",
       "  <thead>\n",
       "    <tr style=\"text-align: right;\">\n",
       "      <th></th>\n",
       "      <th>ProductId</th>\n",
       "      <th>UmId</th>\n",
       "      <th>Month</th>\n",
       "      <th>Year</th>\n",
       "      <th>Price</th>\n",
       "    </tr>\n",
       "  </thead>\n",
       "  <tbody>\n",
       "    <tr>\n",
       "      <th>count</th>\n",
       "      <td>7381.000000</td>\n",
       "      <td>7381.000000</td>\n",
       "      <td>7381.000000</td>\n",
       "      <td>7381.000000</td>\n",
       "      <td>7381.000000</td>\n",
       "    </tr>\n",
       "    <tr>\n",
       "      <th>mean</th>\n",
       "      <td>254.509687</td>\n",
       "      <td>15.252811</td>\n",
       "      <td>6.479881</td>\n",
       "      <td>2017.458474</td>\n",
       "      <td>15.738709</td>\n",
       "    </tr>\n",
       "    <tr>\n",
       "      <th>std</th>\n",
       "      <td>141.008599</td>\n",
       "      <td>25.276665</td>\n",
       "      <td>3.530361</td>\n",
       "      <td>1.499256</td>\n",
       "      <td>22.418284</td>\n",
       "    </tr>\n",
       "    <tr>\n",
       "      <th>min</th>\n",
       "      <td>52.000000</td>\n",
       "      <td>5.000000</td>\n",
       "      <td>1.000000</td>\n",
       "      <td>2013.000000</td>\n",
       "      <td>0.253900</td>\n",
       "    </tr>\n",
       "    <tr>\n",
       "      <th>25%</th>\n",
       "      <td>114.000000</td>\n",
       "      <td>5.000000</td>\n",
       "      <td>3.000000</td>\n",
       "      <td>2017.000000</td>\n",
       "      <td>3.223600</td>\n",
       "    </tr>\n",
       "    <tr>\n",
       "      <th>50%</th>\n",
       "      <td>239.000000</td>\n",
       "      <td>5.000000</td>\n",
       "      <td>6.000000</td>\n",
       "      <td>2018.000000</td>\n",
       "      <td>5.909600</td>\n",
       "    </tr>\n",
       "    <tr>\n",
       "      <th>75%</th>\n",
       "      <td>388.000000</td>\n",
       "      <td>5.000000</td>\n",
       "      <td>10.000000</td>\n",
       "      <td>2019.000000</td>\n",
       "      <td>20.441900</td>\n",
       "    </tr>\n",
       "    <tr>\n",
       "      <th>max</th>\n",
       "      <td>502.000000</td>\n",
       "      <td>102.000000</td>\n",
       "      <td>12.000000</td>\n",
       "      <td>2019.000000</td>\n",
       "      <td>159.445800</td>\n",
       "    </tr>\n",
       "  </tbody>\n",
       "</table>\n",
       "</div>"
      ],
      "text/plain": [
       "         ProductId         UmId        Month         Year        Price\n",
       "count  7381.000000  7381.000000  7381.000000  7381.000000  7381.000000\n",
       "mean    254.509687    15.252811     6.479881  2017.458474    15.738709\n",
       "std     141.008599    25.276665     3.530361     1.499256    22.418284\n",
       "min      52.000000     5.000000     1.000000  2013.000000     0.253900\n",
       "25%     114.000000     5.000000     3.000000  2017.000000     3.223600\n",
       "50%     239.000000     5.000000     6.000000  2018.000000     5.909600\n",
       "75%     388.000000     5.000000    10.000000  2019.000000    20.441900\n",
       "max     502.000000   102.000000    12.000000  2019.000000   159.445800"
      ]
     },
     "execution_count": 13,
     "metadata": {},
     "output_type": "execute_result"
    }
   ],
   "source": [
    "df.describe()"
   ]
  }
 ],
 "metadata": {
  "kernelspec": {
   "display_name": "Python 3 (ipykernel)",
   "language": "python",
   "name": "python3"
  },
  "language_info": {
   "codemirror_mode": {
    "name": "ipython",
    "version": 3
   },
   "file_extension": ".py",
   "mimetype": "text/x-python",
   "name": "python",
   "nbconvert_exporter": "python",
   "pygments_lexer": "ipython3",
   "version": "3.10.8"
  }
 },
 "nbformat": 4,
 "nbformat_minor": 5
}
