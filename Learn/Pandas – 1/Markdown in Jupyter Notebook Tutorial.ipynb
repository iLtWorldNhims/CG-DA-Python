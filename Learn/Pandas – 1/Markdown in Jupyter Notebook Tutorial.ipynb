{
 "cells": [
  {
   "cell_type": "markdown",
   "id": "bb4e8033-1a64-47fd-a2e3-d00236077da8",
   "metadata": {
    "tags": []
   },
   "source": [
    "# Headings"
   ]
  },
  {
   "cell_type": "markdown",
   "id": "435987d7-9c1d-498c-ab6b-6c43cee2909a",
   "metadata": {
    "tags": []
   },
   "source": [
    "# (Header 1, title)\n",
    "\n",
    "## (Header 2, major headings)\n",
    "\n",
    "### (Header 3, subheadings)\n",
    "\n",
    "#### (Header 4)\n",
    "\n",
    "##### (Header 5)\n",
    "\n",
    "###### (Header 6)"
   ]
  },
  {
   "cell_type": "markdown",
   "id": "3acb33a1-ba60-426e-b8fe-4efe9bf66822",
   "metadata": {
    "tags": []
   },
   "source": [
    "<h1>Header 1,title<h1>\n",
    "<h2>Header 2,major headings<h2>\n",
    "<h3>Header 3,subheadings<h3>\n",
    "<h4>Header 4<h4>\n",
    "<h5>Header 5<h5>\n",
    "<h6>Header 6<h6>"
   ]
  },
  {
   "cell_type": "markdown",
   "id": "d3a30c25-b745-48cf-8314-b0027eee707a",
   "metadata": {
    "tags": []
   },
   "source": [
    "# Blockquotes"
   ]
  },
  {
   "cell_type": "markdown",
   "id": "a14b1b8f-0635-443a-9d1a-0c1f31c3bc77",
   "metadata": {},
   "source": [
    ">This is good"
   ]
  },
  {
   "cell_type": "markdown",
   "id": "582036a1-6dbc-4ba0-8612-205eed88b941",
   "metadata": {},
   "source": [
    "# Code Section"
   ]
  },
  {
   "cell_type": "markdown",
   "id": "dcc99827-c7b3-42e0-ad25-99e2c83cb108",
   "metadata": {},
   "source": [
    "`Code goes here:`\\\n",
    "`x = 5`"
   ]
  },
  {
   "cell_type": "markdown",
   "id": "b78ef03a-285b-45b5-ac29-04cc24d3561b",
   "metadata": {},
   "source": [
    "```Python\n",
    "str = \"This is block level code\"\n",
    "print(str)\n",
    "```"
   ]
  },
  {
   "cell_type": "markdown",
   "id": "14f41bc5-faed-4442-a24c-f534ae2a09da",
   "metadata": {},
   "source": [
    "<code>Python\n",
    "str = \"This is a block level code\"\n",
    "print(str)\n",
    "</code>"
   ]
  },
  {
   "cell_type": "markdown",
   "id": "5b2af810-6798-4184-8317-13d246fe086e",
   "metadata": {},
   "source": [
    "# Mathematical Symbol"
   ]
  },
  {
   "cell_type": "markdown",
   "id": "13e550c1-f513-4824-91f5-93f390d4290a",
   "metadata": {},
   "source": [
    "\\$\\sqrt{k}$"
   ]
  },
  {
   "cell_type": "markdown",
   "id": "5ccb2eb1-44e0-4526-87af-e82d9f94e225",
   "metadata": {},
   "source": [
    "# Line break"
   ]
  },
  {
   "cell_type": "markdown",
   "id": "559d891c-d654-4b04-9c87-2fb246b26123",
   "metadata": {},
   "source": [
    "The line breaks after using <br> br tags and it is awesome."
   ]
  },
  {
   "cell_type": "code",
   "execution_count": null,
   "id": "122ac4e6-1781-4332-8faa-ff9a812aa98a",
   "metadata": {},
   "outputs": [],
   "source": []
  }
 ],
 "metadata": {
  "kernelspec": {
   "display_name": "Python 3 (ipykernel)",
   "language": "python",
   "name": "python3"
  },
  "language_info": {
   "codemirror_mode": {
    "name": "ipython",
    "version": 3
   },
   "file_extension": ".py",
   "mimetype": "text/x-python",
   "name": "python",
   "nbconvert_exporter": "python",
   "pygments_lexer": "ipython3",
   "version": "3.9.13"
  }
 },
 "nbformat": 4,
 "nbformat_minor": 5
}
