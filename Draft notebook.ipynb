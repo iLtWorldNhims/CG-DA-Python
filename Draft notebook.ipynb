{
 "cells": [
  {
   "cell_type": "code",
   "execution_count": 1,
   "id": "ed8756e7",
   "metadata": {},
   "outputs": [],
   "source": [
    "hostname = 'mysql.anbelly.com'\n",
    "username = 'hocvien'\n",
    "userpassword = '12345678'\n",
    "dbname = 'casestudy'"
   ]
  },
  {
   "cell_type": "code",
   "execution_count": 2,
   "id": "e01739d7",
   "metadata": {},
   "outputs": [
    {
     "ename": "NameError",
     "evalue": "name 'sql' is not defined",
     "output_type": "error",
     "traceback": [
      "\u001b[1;31m---------------------------------------------------------------------------\u001b[0m",
      "\u001b[1;31mNameError\u001b[0m                                 Traceback (most recent call last)",
      "Input \u001b[1;32mIn [2]\u001b[0m, in \u001b[0;36m<cell line: 1>\u001b[1;34m()\u001b[0m\n\u001b[1;32m----> 1\u001b[0m engine \u001b[38;5;241m=\u001b[39m \u001b[43msql\u001b[49m\u001b[38;5;241m.\u001b[39mcreate_engine(\n\u001b[0;32m      2\u001b[0m     sql\u001b[38;5;241m.\u001b[39mengine\u001b[38;5;241m.\u001b[39murl\u001b[38;5;241m.\u001b[39mURL\u001b[38;5;241m.\u001b[39mcreate(\n\u001b[0;32m      3\u001b[0m         drivername\u001b[38;5;241m=\u001b[39m\u001b[38;5;124m\"\u001b[39m\u001b[38;5;124mmysql\u001b[39m\u001b[38;5;124m\"\u001b[39m,\n\u001b[0;32m      4\u001b[0m         username\u001b[38;5;241m=\u001b[39musername,\n\u001b[0;32m      5\u001b[0m         password\u001b[38;5;241m=\u001b[39muserpassword,\n\u001b[0;32m      6\u001b[0m         host\u001b[38;5;241m=\u001b[39mhostname,\n\u001b[0;32m      7\u001b[0m         port\u001b[38;5;241m=\u001b[39m\u001b[38;5;241m3306\u001b[39m,\n\u001b[0;32m      8\u001b[0m         database\u001b[38;5;241m=\u001b[39mdbname,\n\u001b[0;32m      9\u001b[0m     ),\n\u001b[0;32m     10\u001b[0m     echo_pool\u001b[38;5;241m=\u001b[39m\u001b[38;5;28;01mTrue\u001b[39;00m,\n\u001b[0;32m     11\u001b[0m )\n\u001b[0;32m     12\u001b[0m \u001b[38;5;28mprint\u001b[39m(\u001b[38;5;124m\"\u001b[39m\u001b[38;5;124mconnecting with engine \u001b[39m\u001b[38;5;124m\"\u001b[39m \u001b[38;5;241m+\u001b[39m \u001b[38;5;28mstr\u001b[39m(engine))\n\u001b[0;32m     14\u001b[0m connection \u001b[38;5;241m=\u001b[39m engine\u001b[38;5;241m.\u001b[39mconnect()\n",
      "\u001b[1;31mNameError\u001b[0m: name 'sql' is not defined"
     ]
    }
   ],
   "source": [
    "engine = sql.create_engine(\n",
    "    sql.engine.url.URL.create(\n",
    "        drivername=\"mysql\",\n",
    "        username=username,\n",
    "        password=userpassword,\n",
    "        host=hostname,\n",
    "        port=3306,\n",
    "        database=dbname,\n",
    "    ),\n",
    "    echo_pool=True,\n",
    ")\n",
    "print(\"connecting with engine \" + str(engine))\n",
    "\n",
    "connection = engine.connect()\n",
    "\n",
    "print('Connected')"
   ]
  },
  {
   "cell_type": "code",
   "execution_count": null,
   "id": "65ce8e1d",
   "metadata": {},
   "outputs": [],
   "source": []
  }
 ],
 "metadata": {
  "kernelspec": {
   "display_name": "Python 3 (ipykernel)",
   "language": "python",
   "name": "python3"
  },
  "language_info": {
   "codemirror_mode": {
    "name": "ipython",
    "version": 3
   },
   "file_extension": ".py",
   "mimetype": "text/x-python",
   "name": "python",
   "nbconvert_exporter": "python",
   "pygments_lexer": "ipython3",
   "version": "3.9.12"
  }
 },
 "nbformat": 4,
 "nbformat_minor": 5
}
