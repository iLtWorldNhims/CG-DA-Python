{
 "cells": [
  {
   "cell_type": "code",
   "execution_count": 2,
   "id": "65ce8e1d",
   "metadata": {},
   "outputs": [],
   "source": [
    "import pandas as pd"
   ]
  },
  {
   "cell_type": "code",
   "execution_count": 3,
   "id": "a07aa38a",
   "metadata": {},
   "outputs": [],
   "source": [
    "drinks = pd.read_csv('http://bit.ly/drinksbycountry')"
   ]
  },
  {
   "cell_type": "code",
   "execution_count": 5,
   "id": "5d7df48a",
   "metadata": {},
   "outputs": [
    {
     "data": {
      "text/html": [
       "<div>\n",
       "<style scoped>\n",
       "    .dataframe tbody tr th:only-of-type {\n",
       "        vertical-align: middle;\n",
       "    }\n",
       "\n",
       "    .dataframe tbody tr th {\n",
       "        vertical-align: top;\n",
       "    }\n",
       "\n",
       "    .dataframe thead th {\n",
       "        text-align: right;\n",
       "    }\n",
       "</style>\n",
       "<table border=\"1\" class=\"dataframe\">\n",
       "  <thead>\n",
       "    <tr style=\"text-align: right;\">\n",
       "      <th></th>\n",
       "      <th>country</th>\n",
       "      <th>beer_servings</th>\n",
       "      <th>spirit_servings</th>\n",
       "      <th>wine_servings</th>\n",
       "      <th>total_litres_of_pure_alcohol</th>\n",
       "      <th>continent</th>\n",
       "    </tr>\n",
       "  </thead>\n",
       "  <tbody>\n",
       "    <tr>\n",
       "      <th>0</th>\n",
       "      <td>Afghanistan</td>\n",
       "      <td>0</td>\n",
       "      <td>0</td>\n",
       "      <td>0</td>\n",
       "      <td>0.0</td>\n",
       "      <td>Asia</td>\n",
       "    </tr>\n",
       "    <tr>\n",
       "      <th>1</th>\n",
       "      <td>Albania</td>\n",
       "      <td>89</td>\n",
       "      <td>132</td>\n",
       "      <td>54</td>\n",
       "      <td>4.9</td>\n",
       "      <td>Europe</td>\n",
       "    </tr>\n",
       "    <tr>\n",
       "      <th>2</th>\n",
       "      <td>Algeria</td>\n",
       "      <td>25</td>\n",
       "      <td>0</td>\n",
       "      <td>14</td>\n",
       "      <td>0.7</td>\n",
       "      <td>Africa</td>\n",
       "    </tr>\n",
       "    <tr>\n",
       "      <th>3</th>\n",
       "      <td>Andorra</td>\n",
       "      <td>245</td>\n",
       "      <td>138</td>\n",
       "      <td>312</td>\n",
       "      <td>12.4</td>\n",
       "      <td>Europe</td>\n",
       "    </tr>\n",
       "    <tr>\n",
       "      <th>4</th>\n",
       "      <td>Angola</td>\n",
       "      <td>217</td>\n",
       "      <td>57</td>\n",
       "      <td>45</td>\n",
       "      <td>5.9</td>\n",
       "      <td>Africa</td>\n",
       "    </tr>\n",
       "  </tbody>\n",
       "</table>\n",
       "</div>"
      ],
      "text/plain": [
       "       country  beer_servings  spirit_servings  wine_servings  \\\n",
       "0  Afghanistan              0                0              0   \n",
       "1      Albania             89              132             54   \n",
       "2      Algeria             25                0             14   \n",
       "3      Andorra            245              138            312   \n",
       "4       Angola            217               57             45   \n",
       "\n",
       "   total_litres_of_pure_alcohol continent  \n",
       "0                           0.0      Asia  \n",
       "1                           4.9    Europe  \n",
       "2                           0.7    Africa  \n",
       "3                          12.4    Europe  \n",
       "4                           5.9    Africa  "
      ]
     },
     "execution_count": 5,
     "metadata": {},
     "output_type": "execute_result"
    }
   ],
   "source": [
    "drinks.head()"
   ]
  },
  {
   "cell_type": "code",
   "execution_count": 6,
   "id": "c2180838",
   "metadata": {},
   "outputs": [
    {
     "data": {
      "text/html": [
       "<div>\n",
       "<style scoped>\n",
       "    .dataframe tbody tr th:only-of-type {\n",
       "        vertical-align: middle;\n",
       "    }\n",
       "\n",
       "    .dataframe tbody tr th {\n",
       "        vertical-align: top;\n",
       "    }\n",
       "\n",
       "    .dataframe thead th {\n",
       "        text-align: right;\n",
       "    }\n",
       "</style>\n",
       "<table border=\"1\" class=\"dataframe\">\n",
       "  <thead>\n",
       "    <tr style=\"text-align: right;\">\n",
       "      <th></th>\n",
       "      <th>country</th>\n",
       "      <th>beer_servings</th>\n",
       "      <th>spirit_servings</th>\n",
       "      <th>wine_servings</th>\n",
       "      <th>total_litres_of_pure_alcohol</th>\n",
       "      <th>continent</th>\n",
       "    </tr>\n",
       "  </thead>\n",
       "  <tbody>\n",
       "    <tr>\n",
       "      <th>0</th>\n",
       "      <td>Afghanistan</td>\n",
       "      <td>0</td>\n",
       "      <td>0</td>\n",
       "      <td>0</td>\n",
       "      <td>0.0</td>\n",
       "      <td>Asia</td>\n",
       "    </tr>\n",
       "    <tr>\n",
       "      <th>1</th>\n",
       "      <td>Albania</td>\n",
       "      <td>89</td>\n",
       "      <td>132</td>\n",
       "      <td>54</td>\n",
       "      <td>4.9</td>\n",
       "      <td>Europe</td>\n",
       "    </tr>\n",
       "    <tr>\n",
       "      <th>2</th>\n",
       "      <td>Algeria</td>\n",
       "      <td>25</td>\n",
       "      <td>0</td>\n",
       "      <td>14</td>\n",
       "      <td>0.7</td>\n",
       "      <td>Africa</td>\n",
       "    </tr>\n",
       "    <tr>\n",
       "      <th>3</th>\n",
       "      <td>Andorra</td>\n",
       "      <td>245</td>\n",
       "      <td>138</td>\n",
       "      <td>312</td>\n",
       "      <td>12.4</td>\n",
       "      <td>Europe</td>\n",
       "    </tr>\n",
       "    <tr>\n",
       "      <th>4</th>\n",
       "      <td>Angola</td>\n",
       "      <td>217</td>\n",
       "      <td>57</td>\n",
       "      <td>45</td>\n",
       "      <td>5.9</td>\n",
       "      <td>Africa</td>\n",
       "    </tr>\n",
       "    <tr>\n",
       "      <th>...</th>\n",
       "      <td>...</td>\n",
       "      <td>...</td>\n",
       "      <td>...</td>\n",
       "      <td>...</td>\n",
       "      <td>...</td>\n",
       "      <td>...</td>\n",
       "    </tr>\n",
       "    <tr>\n",
       "      <th>188</th>\n",
       "      <td>Venezuela</td>\n",
       "      <td>333</td>\n",
       "      <td>100</td>\n",
       "      <td>3</td>\n",
       "      <td>7.7</td>\n",
       "      <td>South America</td>\n",
       "    </tr>\n",
       "    <tr>\n",
       "      <th>189</th>\n",
       "      <td>Vietnam</td>\n",
       "      <td>111</td>\n",
       "      <td>2</td>\n",
       "      <td>1</td>\n",
       "      <td>2.0</td>\n",
       "      <td>Asia</td>\n",
       "    </tr>\n",
       "    <tr>\n",
       "      <th>190</th>\n",
       "      <td>Yemen</td>\n",
       "      <td>6</td>\n",
       "      <td>0</td>\n",
       "      <td>0</td>\n",
       "      <td>0.1</td>\n",
       "      <td>Asia</td>\n",
       "    </tr>\n",
       "    <tr>\n",
       "      <th>191</th>\n",
       "      <td>Zambia</td>\n",
       "      <td>32</td>\n",
       "      <td>19</td>\n",
       "      <td>4</td>\n",
       "      <td>2.5</td>\n",
       "      <td>Africa</td>\n",
       "    </tr>\n",
       "    <tr>\n",
       "      <th>192</th>\n",
       "      <td>Zimbabwe</td>\n",
       "      <td>64</td>\n",
       "      <td>18</td>\n",
       "      <td>4</td>\n",
       "      <td>4.7</td>\n",
       "      <td>Africa</td>\n",
       "    </tr>\n",
       "  </tbody>\n",
       "</table>\n",
       "<p>193 rows × 6 columns</p>\n",
       "</div>"
      ],
      "text/plain": [
       "         country  beer_servings  spirit_servings  wine_servings  \\\n",
       "0    Afghanistan              0                0              0   \n",
       "1        Albania             89              132             54   \n",
       "2        Algeria             25                0             14   \n",
       "3        Andorra            245              138            312   \n",
       "4         Angola            217               57             45   \n",
       "..           ...            ...              ...            ...   \n",
       "188    Venezuela            333              100              3   \n",
       "189      Vietnam            111                2              1   \n",
       "190        Yemen              6                0              0   \n",
       "191       Zambia             32               19              4   \n",
       "192     Zimbabwe             64               18              4   \n",
       "\n",
       "     total_litres_of_pure_alcohol      continent  \n",
       "0                             0.0           Asia  \n",
       "1                             4.9         Europe  \n",
       "2                             0.7         Africa  \n",
       "3                            12.4         Europe  \n",
       "4                             5.9         Africa  \n",
       "..                            ...            ...  \n",
       "188                           7.7  South America  \n",
       "189                           2.0           Asia  \n",
       "190                           0.1           Asia  \n",
       "191                           2.5         Africa  \n",
       "192                           4.7         Africa  \n",
       "\n",
       "[193 rows x 6 columns]"
      ]
     },
     "execution_count": 6,
     "metadata": {},
     "output_type": "execute_result"
    }
   ],
   "source": [
    "drinks"
   ]
  },
  {
   "cell_type": "code",
   "execution_count": 17,
   "id": "24d45385",
   "metadata": {
    "scrolled": true
   },
   "outputs": [
    {
     "data": {
      "text/plain": [
       "country                         Vietnam\n",
       "beer_servings                       111\n",
       "spirit_servings                       2\n",
       "wine_servings                         1\n",
       "total_litres_of_pure_alcohol        2.0\n",
       "continent                          Asia\n",
       "Name: 189, dtype: object"
      ]
     },
     "execution_count": 17,
     "metadata": {},
     "output_type": "execute_result"
    }
   ],
   "source": [
    "drinks.loc[189]"
   ]
  },
  {
   "cell_type": "code",
   "execution_count": 21,
   "id": "3b22f96f",
   "metadata": {},
   "outputs": [],
   "source": [
    "beer_servings_sorted = drinks.sort_values('beer_servings')"
   ]
  },
  {
   "cell_type": "code",
   "execution_count": 30,
   "id": "695d6bfe",
   "metadata": {},
   "outputs": [],
   "source": [
    "beer_servings_sorted_by_country = beer_servings_sorted['country'].unique()"
   ]
  },
  {
   "cell_type": "code",
   "execution_count": 31,
   "id": "141cb25c",
   "metadata": {},
   "outputs": [
    {
     "data": {
      "text/plain": [
       "array(['Afghanistan', 'Cook Islands', 'Iran', 'Kuwait', 'Libya',\n",
       "       'Maldives', 'Marshall Islands', 'Monaco', 'Pakistan', 'San Marino',\n",
       "       'Bangladesh', 'Saudi Arabia', 'Mauritania', 'Somalia',\n",
       "       'North Korea', 'Qatar', 'Comoros', 'Timor-Leste', 'Haiti',\n",
       "       'Tajikistan', 'Niger', 'Nepal', 'Myanmar', 'Syria', 'Mali',\n",
       "       'Indonesia', 'Egypt', 'Yemen', 'Jordan', 'Tuvalu', 'Sudan',\n",
       "       'Gambia', 'Malawi', 'Guinea', 'India', 'Senegal', 'Iraq',\n",
       "       'Morocco', 'Malaysia', 'Djibouti', 'Chad', 'United Arab Emirates',\n",
       "       'Sri Lanka', 'Central African Republic', 'Eritrea', 'Turkmenistan',\n",
       "       'Liberia', 'Ethiopia', 'Lebanon', 'Vanuatu', 'Armenia',\n",
       "       'Azerbaijan', 'Kiribati', 'Oman', 'Bhutan', 'Uzbekistan',\n",
       "       'Algeria', 'Sierra Leone', 'Burkina Faso', 'Madagascar',\n",
       "       'Guinea-Bissau', 'Montenegro', 'Kyrgyzstan', 'Ghana', 'Brunei',\n",
       "       'Zambia', 'DR Congo', 'Benin', 'Togo', 'Tonga', 'Tanzania',\n",
       "       \"Cote d'Ivoire\", 'Nigeria', 'Bahrain', 'Rwanda',\n",
       "       'Papua New Guinea', 'Uganda', 'Mozambique', 'Nauru', 'Tunisia',\n",
       "       'Turkey', 'El Salvador', 'Georgia', 'Dominica', 'Guatemala',\n",
       "       'Sao Tome & Principe', 'Solomon Islands', 'Cambodia', 'Kenya',\n",
       "       'Singapore', 'Micronesia', 'Laos', 'Israel', 'Zimbabwe',\n",
       "       'Honduras', 'Philippines', 'Bosnia-Herzegovina', 'Congo',\n",
       "       'Mongolia', 'Japan', 'Fiji', 'Nicaragua', 'China', 'Jamaica',\n",
       "       'Lesotho', 'Italy', 'Burundi', 'Albania', 'Swaziland',\n",
       "       'Equatorial Guinea', 'Cuba', 'Guyana', 'Mauritius', 'Thailand',\n",
       "       'Antigua & Barbuda', 'Samoa', 'Macedonia', 'Moldova', 'Vietnam',\n",
       "       'Uruguay', 'St. Vincent & the Grenadines', 'Bahamas', 'Kazakhstan',\n",
       "       'France', 'Suriname', 'Chile', 'Greece', 'South Korea', 'Belarus',\n",
       "       'Barbados', 'Cabo Verde', 'Cameroon', 'Malta', 'Costa Rica',\n",
       "       'Sweden', 'Seychelles', 'Colombia', 'Ecuador', 'Peru', 'Bolivia',\n",
       "       'Norway', 'St. Lucia', 'Botswana', 'Switzerland', 'Niue', 'Cyprus',\n",
       "       'Dominican Republic', 'Argentina', 'Portugal', 'St. Kitts & Nevis',\n",
       "       'Slovakia', 'Trinidad & Tobago', 'Grenada', 'New Zealand',\n",
       "       'Ukraine', 'Paraguay', 'Angola', 'United Kingdom', 'Estonia',\n",
       "       'Denmark', 'South Africa', 'Croatia', 'Bulgaria', 'Iceland',\n",
       "       'Hungary', 'Luxembourg', 'Mexico', 'Canada', 'Andorra', 'Brazil',\n",
       "       'Russian Federation', 'USA', 'Netherlands', 'Australia', 'Finland',\n",
       "       'Belize', 'Slovenia', 'Austria', 'Latvia', 'Serbia', 'Spain',\n",
       "       'Panama', 'Belgium', 'Romania', 'Palau', 'Ireland', 'Venezuela',\n",
       "       'Lithuania', 'Poland', 'Germany', 'Gabon', 'Czech Republic',\n",
       "       'Namibia'], dtype=object)"
      ]
     },
     "execution_count": 31,
     "metadata": {},
     "output_type": "execute_result"
    }
   ],
   "source": [
    "beer_servings_sorted_by_country"
   ]
  },
  {
   "cell_type": "code",
   "execution_count": 32,
   "id": "b378007a",
   "metadata": {},
   "outputs": [
    {
     "data": {
      "text/plain": [
       "106.16062176165804"
      ]
     },
     "execution_count": 32,
     "metadata": {},
     "output_type": "execute_result"
    }
   ],
   "source": [
    "drinks.beer_servings.mean()"
   ]
  },
  {
   "cell_type": "code",
   "execution_count": 44,
   "id": "cd028c76",
   "metadata": {},
   "outputs": [
    {
     "data": {
      "text/plain": [
       "continent\n",
       "Asia              37.045455\n",
       "Africa            61.471698\n",
       "Oceania           89.687500\n",
       "North America    145.434783\n",
       "South America    175.083333\n",
       "Europe           193.777778\n",
       "Name: beer_servings, dtype: float64"
      ]
     },
     "execution_count": 44,
     "metadata": {},
     "output_type": "execute_result"
    }
   ],
   "source": [
    "drinks.groupby('continent').beer_servings.mean().sort_values()"
   ]
  },
  {
   "cell_type": "code",
   "execution_count": 46,
   "id": "ae227d50",
   "metadata": {},
   "outputs": [
    {
     "data": {
      "text/plain": [
       "continent\n",
       "Oceania          1435\n",
       "Asia             1630\n",
       "South America    2101\n",
       "Africa           3258\n",
       "North America    3345\n",
       "Europe           8720\n",
       "Name: beer_servings, dtype: int64"
      ]
     },
     "execution_count": 46,
     "metadata": {},
     "output_type": "execute_result"
    }
   ],
   "source": [
    "drinks.groupby('continent').beer_servings.sum().sort_values()"
   ]
  },
  {
   "cell_type": "code",
   "execution_count": null,
   "id": "3d4092f1",
   "metadata": {},
   "outputs": [],
   "source": []
  }
 ],
 "metadata": {
  "kernelspec": {
   "display_name": "Python 3 (ipykernel)",
   "language": "python",
   "name": "python3"
  },
  "language_info": {
   "codemirror_mode": {
    "name": "ipython",
    "version": 3
   },
   "file_extension": ".py",
   "mimetype": "text/x-python",
   "name": "python",
   "nbconvert_exporter": "python",
   "pygments_lexer": "ipython3",
   "version": "3.9.12"
  }
 },
 "nbformat": 4,
 "nbformat_minor": 5
}
